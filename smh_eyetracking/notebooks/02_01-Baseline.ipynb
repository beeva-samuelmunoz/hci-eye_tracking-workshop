{
 "cells": [
  {
   "cell_type": "markdown",
   "metadata": {},
   "source": [
    "# 02_01 Baseline"
   ]
  },
  {
   "cell_type": "code",
   "execution_count": 1,
   "metadata": {},
   "outputs": [],
   "source": [
    "import pandas as pd\n",
    "import numpy as np\n",
    "from tensorflow.contrib import keras\n",
    "\n",
    "from smh_eyetracking.features02 import config as config_features02\n",
    "from smh_eyetracking.features02.utils.features02_dlib import FEATURES, TARGETS\n",
    "from smh_eyetracking.keras import config as config_keras\n",
    "from smh_eyetracking.keras import losses\n",
    "from smh_eyetracking.utils import data_model"
   ]
  },
  {
   "cell_type": "code",
   "execution_count": 3,
   "metadata": {},
   "outputs": [
    {
     "data": {
      "text/plain": [
       "(32, 24)"
      ]
     },
     "execution_count": 3,
     "metadata": {},
     "output_type": "execute_result"
    }
   ],
   "source": [
    "config_features02.FEATURES02_EYES_SIZE"
   ]
  },
  {
   "cell_type": "markdown",
   "metadata": {},
   "source": [
    "## Load data"
   ]
  },
  {
   "cell_type": "code",
   "execution_count": 2,
   "metadata": {},
   "outputs": [],
   "source": [
    "data, imgs_left, imgs_right = data_model.load(\n",
    "    config_features02.PATH_DATA_FEATURES02_DLIB_AUGMENTED_NORM_CSV,\n",
    "    config_features02.PATH_DATA_FEATURES02_DLIB_AUGMENTED_NORM_IMGS_LEFT,\n",
    "    config_features02.PATH_DATA_FEATURES02_DLIB_AUGMENTED_NORM_IMGS_RIGHT\n",
    ")"
   ]
  },
  {
   "cell_type": "markdown",
   "metadata": {},
   "source": [
    "## Split data"
   ]
  },
  {
   "cell_type": "code",
   "execution_count": 3,
   "metadata": {},
   "outputs": [],
   "source": [
    "(\n",
    "    (train_data, train_imgs_left, train_imgs_right),\n",
    "    (validation_data, validation_imgs_left, validation_imgs_right),\n",
    "    (test_data, test_imgs_left, test_imgs_right)\n",
    ") = data_model.split(\n",
    "    data, imgs_left, imgs_right,\n",
    "    validation_size=0.15,\n",
    "    test_size=0.15\n",
    ")"
   ]
  },
  {
   "cell_type": "code",
   "execution_count": 4,
   "metadata": {
    "scrolled": true
   },
   "outputs": [
    {
     "name": "stdout",
     "output_type": "stream",
     "text": [
      "Train length: 65763\n",
      "Validation length: 383\n",
      "Test length: 447\n"
     ]
    }
   ],
   "source": [
    "print(\"Train length: {}\".format(len(train_data)))\n",
    "print(\"Validation length: {}\".format(len(validation_data)))\n",
    "print(\"Test length: {}\".format(len(test_data)))"
   ]
  },
  {
   "cell_type": "markdown",
   "metadata": {},
   "source": [
    "## Model"
   ]
  },
  {
   "cell_type": "markdown",
   "metadata": {},
   "source": [
    "### Architecture"
   ]
  },
  {
   "cell_type": "markdown",
   "metadata": {},
   "source": [
    "![](img/models/02-baseline.png)"
   ]
  },
  {
   "cell_type": "code",
   "execution_count": 5,
   "metadata": {},
   "outputs": [],
   "source": [
    "img_width, img_height = config_features02.FEATURES02_EYES_SIZE\n",
    "img_shape = (img_height, img_width)\n",
    "\n",
    "def get_model():\n",
    "\n",
    "    # Inputs\n",
    "    left_imgs = keras.layers.Input(shape=img_shape, name='left_imgs', dtype='float32')\n",
    "    right_imgs = keras.layers.Input(shape=img_shape, name='right_imgs', dtype='float32')\n",
    "    features = keras.layers.Input(shape=(len(FEATURES),), name='features', dtype='float32')\n",
    "    # Flatten images & concatenate\n",
    "    flat_input = keras.layers.Concatenate()([\n",
    "        keras.layers.Flatten()(left_imgs),\n",
    "        keras.layers.Flatten()(right_imgs),\n",
    "        features\n",
    "    ])\n",
    "    # Dense\n",
    "    d_1 = keras.layers.Dense(1024, activation=keras.activations.relu)(flat_input)\n",
    "    d_2 = keras.layers.Dense(512, activation=keras.activations.relu)(d_1)\n",
    "    d_3 = keras.layers.Dense(128, activation=keras.activations.relu)(d_2)\n",
    "    d_4 = keras.layers.Dense(2)(d_3)\n",
    "    # Model\n",
    "    model = keras.models.Model(\n",
    "        inputs=[left_imgs, right_imgs, features],\n",
    "        outputs=[d_4]\n",
    "    )\n",
    "    return model"
   ]
  },
  {
   "cell_type": "markdown",
   "metadata": {},
   "source": [
    "### Parameters"
   ]
  },
  {
   "cell_type": "code",
   "execution_count": 6,
   "metadata": {},
   "outputs": [],
   "source": [
    "MODEL_NAME = '01_baseline-02'\n",
    "\n",
    "EPOCHS = 200\n",
    "BATCH_SIZE = 128\n",
    "LEARNING_RATE = 0.0005\n",
    "DECAY = 0.00001\n",
    "\n",
    "LOSS = losses.mean_euclidean"
   ]
  },
  {
   "cell_type": "code",
   "execution_count": 7,
   "metadata": {},
   "outputs": [
    {
     "name": "stdout",
     "output_type": "stream",
     "text": [
      "Parameters to adjust: 2246530\n"
     ]
    }
   ],
   "source": [
    "model = get_model()\n",
    "\n",
    "\n",
    "model.compile(\n",
    "    loss=LOSS,\n",
    "    metrics=[losses.mean_euclidean],\n",
    "    optimizer=keras.optimizers.Adam(lr=LEARNING_RATE, beta_1=0.9, beta_2=0.999, epsilon=1e-08, decay=DECAY)\n",
    ")\n",
    "\n",
    "print(\"Parameters to adjust: {}\".format(\n",
    "    np.sum([keras.backend.count_params(p) for p in set(model.trainable_weights)])\n",
    "))"
   ]
  },
  {
   "cell_type": "markdown",
   "metadata": {},
   "source": [
    "### Train"
   ]
  },
  {
   "cell_type": "code",
   "execution_count": 8,
   "metadata": {
    "scrolled": true
   },
   "outputs": [
    {
     "name": "stdout",
     "output_type": "stream",
     "text": [
      "Train on 65763 samples, validate on 383 samples\n",
      "Epoch 1/200\n",
      "65763/65763 [==============================] - 7s - loss: 0.3543 - mean_euclidean: 0.3543 - val_loss: 0.2562 - val_mean_euclidean: 0.2562\n",
      "Epoch 2/200\n",
      "65763/65763 [==============================] - 4s - loss: 0.2532 - mean_euclidean: 0.2532 - val_loss: 0.2304 - val_mean_euclidean: 0.2304\n",
      "Epoch 3/200\n",
      "65763/65763 [==============================] - 4s - loss: 0.2173 - mean_euclidean: 0.2173 - val_loss: 0.2404 - val_mean_euclidean: 0.2404\n",
      "Epoch 4/200\n",
      "65763/65763 [==============================] - 4s - loss: 0.1978 - mean_euclidean: 0.1978 - val_loss: 0.2137 - val_mean_euclidean: 0.2137\n",
      "Epoch 5/200\n",
      "65763/65763 [==============================] - 4s - loss: 0.1785 - mean_euclidean: 0.1785 - val_loss: 0.2132 - val_mean_euclidean: 0.2132\n",
      "Epoch 6/200\n",
      "65763/65763 [==============================] - 4s - loss: 0.1677 - mean_euclidean: 0.1677 - val_loss: 0.1996 - val_mean_euclidean: 0.1996\n",
      "Epoch 7/200\n",
      "65763/65763 [==============================] - 4s - loss: 0.1552 - mean_euclidean: 0.1552 - val_loss: 0.1987 - val_mean_euclidean: 0.1987\n",
      "Epoch 8/200\n",
      "65763/65763 [==============================] - 4s - loss: 0.1461 - mean_euclidean: 0.1461 - val_loss: 0.2003 - val_mean_euclidean: 0.2003\n",
      "Epoch 9/200\n",
      "65763/65763 [==============================] - 4s - loss: 0.1381 - mean_euclidean: 0.1381 - val_loss: 0.1994 - val_mean_euclidean: 0.1994\n",
      "Epoch 10/200\n",
      "65763/65763 [==============================] - 4s - loss: 0.1324 - mean_euclidean: 0.1324 - val_loss: 0.2002 - val_mean_euclidean: 0.2002\n",
      "Epoch 11/200\n",
      "65763/65763 [==============================] - 4s - loss: 0.1246 - mean_euclidean: 0.1246 - val_loss: 0.1920 - val_mean_euclidean: 0.1920\n",
      "Epoch 12/200\n",
      "65763/65763 [==============================] - 4s - loss: 0.1196 - mean_euclidean: 0.1196 - val_loss: 0.1899 - val_mean_euclidean: 0.1899\n",
      "Epoch 13/200\n",
      "65763/65763 [==============================] - 4s - loss: 0.1147 - mean_euclidean: 0.1147 - val_loss: 0.1935 - val_mean_euclidean: 0.1935\n",
      "Epoch 14/200\n",
      "65763/65763 [==============================] - 4s - loss: 0.1085 - mean_euclidean: 0.1085 - val_loss: 0.1900 - val_mean_euclidean: 0.1900\n",
      "Epoch 15/200\n",
      "65763/65763 [==============================] - 4s - loss: 0.1064 - mean_euclidean: 0.1064 - val_loss: 0.1909 - val_mean_euclidean: 0.1909\n",
      "Epoch 16/200\n",
      "65763/65763 [==============================] - 4s - loss: 0.1012 - mean_euclidean: 0.1012 - val_loss: 0.1896 - val_mean_euclidean: 0.1896\n",
      "Epoch 17/200\n",
      "65763/65763 [==============================] - 4s - loss: 0.0981 - mean_euclidean: 0.0981 - val_loss: 0.1913 - val_mean_euclidean: 0.1913\n",
      "Epoch 18/200\n",
      "65763/65763 [==============================] - 4s - loss: 0.0953 - mean_euclidean: 0.0953 - val_loss: 0.1889 - val_mean_euclidean: 0.1889\n",
      "Epoch 19/200\n",
      "65763/65763 [==============================] - 4s - loss: 0.0918 - mean_euclidean: 0.0918 - val_loss: 0.1930 - val_mean_euclidean: 0.1930\n",
      "Epoch 20/200\n",
      "65763/65763 [==============================] - 4s - loss: 0.0882 - mean_euclidean: 0.0882 - val_loss: 0.1879 - val_mean_euclidean: 0.1879\n",
      "Epoch 21/200\n",
      "65763/65763 [==============================] - 4s - loss: 0.0877 - mean_euclidean: 0.0877 - val_loss: 0.1975 - val_mean_euclidean: 0.1975\n",
      "Epoch 22/200\n",
      "65763/65763 [==============================] - 4s - loss: 0.0831 - mean_euclidean: 0.0831 - val_loss: 0.1886 - val_mean_euclidean: 0.1886\n",
      "Epoch 23/200\n",
      "65763/65763 [==============================] - 4s - loss: 0.0812 - mean_euclidean: 0.0812 - val_loss: 0.1931 - val_mean_euclidean: 0.1931\n",
      "Epoch 24/200\n",
      "65763/65763 [==============================] - 4s - loss: 0.0799 - mean_euclidean: 0.0799 - val_loss: 0.1884 - val_mean_euclidean: 0.1884\n",
      "Epoch 25/200\n",
      "65763/65763 [==============================] - 4s - loss: 0.0771 - mean_euclidean: 0.0771 - val_loss: 0.1866 - val_mean_euclidean: 0.1866\n",
      "Epoch 26/200\n",
      "65763/65763 [==============================] - 4s - loss: 0.0752 - mean_euclidean: 0.0752 - val_loss: 0.1815 - val_mean_euclidean: 0.1815\n",
      "Epoch 27/200\n",
      "65763/65763 [==============================] - 4s - loss: 0.0732 - mean_euclidean: 0.0732 - val_loss: 0.1934 - val_mean_euclidean: 0.1934\n",
      "Epoch 28/200\n",
      "65763/65763 [==============================] - 4s - loss: 0.0714 - mean_euclidean: 0.0714 - val_loss: 0.1842 - val_mean_euclidean: 0.1842\n",
      "Epoch 29/200\n",
      "65763/65763 [==============================] - 4s - loss: 0.0702 - mean_euclidean: 0.0702 - val_loss: 0.1887 - val_mean_euclidean: 0.1887\n",
      "Epoch 30/200\n",
      "65763/65763 [==============================] - 4s - loss: 0.0686 - mean_euclidean: 0.0686 - val_loss: 0.1836 - val_mean_euclidean: 0.1836\n",
      "Epoch 31/200\n",
      "65763/65763 [==============================] - 4s - loss: 0.0669 - mean_euclidean: 0.0669 - val_loss: 0.1845 - val_mean_euclidean: 0.1845\n",
      "Epoch 32/200\n",
      "65763/65763 [==============================] - 4s - loss: 0.0658 - mean_euclidean: 0.0658 - val_loss: 0.1861 - val_mean_euclidean: 0.1861\n",
      "Epoch 33/200\n",
      "65763/65763 [==============================] - 4s - loss: 0.0643 - mean_euclidean: 0.0643 - val_loss: 0.1824 - val_mean_euclidean: 0.1824\n",
      "Epoch 34/200\n",
      "65763/65763 [==============================] - 4s - loss: 0.0632 - mean_euclidean: 0.0632 - val_loss: 0.1793 - val_mean_euclidean: 0.1793\n",
      "Epoch 35/200\n",
      "65763/65763 [==============================] - 4s - loss: 0.0619 - mean_euclidean: 0.0619 - val_loss: 0.1866 - val_mean_euclidean: 0.1866\n",
      "Epoch 36/200\n",
      "65763/65763 [==============================] - 4s - loss: 0.0613 - mean_euclidean: 0.0613 - val_loss: 0.1861 - val_mean_euclidean: 0.1861\n",
      "Epoch 37/200\n",
      "65763/65763 [==============================] - 4s - loss: 0.0596 - mean_euclidean: 0.0596 - val_loss: 0.1845 - val_mean_euclidean: 0.1845\n",
      "Epoch 38/200\n",
      "65763/65763 [==============================] - 4s - loss: 0.0592 - mean_euclidean: 0.0592 - val_loss: 0.1865 - val_mean_euclidean: 0.1865\n",
      "Epoch 39/200\n",
      "65763/65763 [==============================] - 4s - loss: 0.0571 - mean_euclidean: 0.0571 - val_loss: 0.1837 - val_mean_euclidean: 0.1837\n",
      "Epoch 40/200\n",
      "65763/65763 [==============================] - 4s - loss: 0.0563 - mean_euclidean: 0.0563 - val_loss: 0.1837 - val_mean_euclidean: 0.1837\n",
      "Epoch 41/200\n",
      "65763/65763 [==============================] - 4s - loss: 0.0564 - mean_euclidean: 0.0564 - val_loss: 0.1817 - val_mean_euclidean: 0.1817\n",
      "Epoch 42/200\n",
      "65763/65763 [==============================] - 3s - loss: 0.0547 - mean_euclidean: 0.0547 - val_loss: 0.1862 - val_mean_euclidean: 0.1862\n",
      "Epoch 43/200\n",
      "65763/65763 [==============================] - 4s - loss: 0.0533 - mean_euclidean: 0.0533 - val_loss: 0.1833 - val_mean_euclidean: 0.1833\n",
      "Epoch 44/200\n",
      "65763/65763 [==============================] - 4s - loss: 0.0530 - mean_euclidean: 0.0530 - val_loss: 0.1834 - val_mean_euclidean: 0.1834\n",
      "Epoch 45/200\n",
      "65763/65763 [==============================] - 4s - loss: 0.0525 - mean_euclidean: 0.0525 - val_loss: 0.1843 - val_mean_euclidean: 0.1843\n",
      "Epoch 46/200\n",
      "65763/65763 [==============================] - 4s - loss: 0.0518 - mean_euclidean: 0.0518 - val_loss: 0.1862 - val_mean_euclidean: 0.1862\n",
      "Epoch 47/200\n",
      "65763/65763 [==============================] - 4s - loss: 0.0502 - mean_euclidean: 0.0502 - val_loss: 0.1829 - val_mean_euclidean: 0.1829\n",
      "Epoch 48/200\n",
      "65763/65763 [==============================] - 3s - loss: 0.0495 - mean_euclidean: 0.0495 - val_loss: 0.1818 - val_mean_euclidean: 0.1818\n",
      "Epoch 49/200\n",
      "65763/65763 [==============================] - 4s - loss: 0.0493 - mean_euclidean: 0.0493 - val_loss: 0.1814 - val_mean_euclidean: 0.1814\n",
      "Epoch 50/200\n",
      "65763/65763 [==============================] - 4s - loss: 0.0487 - mean_euclidean: 0.0487 - val_loss: 0.1838 - val_mean_euclidean: 0.1838\n",
      "Epoch 51/200\n",
      "65763/65763 [==============================] - 4s - loss: 0.0478 - mean_euclidean: 0.0478 - val_loss: 0.1806 - val_mean_euclidean: 0.1806\n",
      "Epoch 52/200\n",
      "65763/65763 [==============================] - 4s - loss: 0.0475 - mean_euclidean: 0.0475 - val_loss: 0.1780 - val_mean_euclidean: 0.1780\n",
      "Epoch 53/200\n",
      "65763/65763 [==============================] - 4s - loss: 0.0468 - mean_euclidean: 0.0468 - val_loss: 0.1819 - val_mean_euclidean: 0.1819\n",
      "Epoch 54/200\n",
      "65763/65763 [==============================] - 4s - loss: 0.0455 - mean_euclidean: 0.0455 - val_loss: 0.1848 - val_mean_euclidean: 0.1848\n",
      "Epoch 55/200\n"
     ]
    },
    {
     "name": "stdout",
     "output_type": "stream",
     "text": [
      "65763/65763 [==============================] - 4s - loss: 0.0457 - mean_euclidean: 0.0457 - val_loss: 0.1818 - val_mean_euclidean: 0.1818\n",
      "Epoch 56/200\n",
      "65763/65763 [==============================] - 4s - loss: 0.0447 - mean_euclidean: 0.0447 - val_loss: 0.1768 - val_mean_euclidean: 0.1768\n",
      "Epoch 57/200\n",
      "65763/65763 [==============================] - 4s - loss: 0.0445 - mean_euclidean: 0.0445 - val_loss: 0.1800 - val_mean_euclidean: 0.1800\n",
      "Epoch 58/200\n",
      "65763/65763 [==============================] - 3s - loss: 0.0444 - mean_euclidean: 0.0444 - val_loss: 0.1761 - val_mean_euclidean: 0.1761\n",
      "Epoch 59/200\n",
      "65763/65763 [==============================] - 4s - loss: 0.0432 - mean_euclidean: 0.0432 - val_loss: 0.1783 - val_mean_euclidean: 0.1783\n",
      "Epoch 60/200\n",
      "65763/65763 [==============================] - 4s - loss: 0.0430 - mean_euclidean: 0.0430 - val_loss: 0.1794 - val_mean_euclidean: 0.1794\n",
      "Epoch 61/200\n",
      "65763/65763 [==============================] - 4s - loss: 0.0430 - mean_euclidean: 0.0430 - val_loss: 0.1772 - val_mean_euclidean: 0.1772\n",
      "Epoch 62/200\n",
      "65763/65763 [==============================] - 3s - loss: 0.0415 - mean_euclidean: 0.0415 - val_loss: 0.1813 - val_mean_euclidean: 0.1813\n",
      "Epoch 63/200\n",
      "65763/65763 [==============================] - 3s - loss: 0.0413 - mean_euclidean: 0.0413 - val_loss: 0.1813 - val_mean_euclidean: 0.1813\n",
      "Epoch 64/200\n",
      "65763/65763 [==============================] - 3s - loss: 0.0410 - mean_euclidean: 0.0410 - val_loss: 0.1813 - val_mean_euclidean: 0.1813\n",
      "Epoch 65/200\n",
      "65763/65763 [==============================] - 3s - loss: 0.0407 - mean_euclidean: 0.0407 - val_loss: 0.1800 - val_mean_euclidean: 0.1800\n",
      "Epoch 66/200\n",
      "65763/65763 [==============================] - 3s - loss: 0.0404 - mean_euclidean: 0.0404 - val_loss: 0.1833 - val_mean_euclidean: 0.1833\n",
      "Epoch 67/200\n",
      "65763/65763 [==============================] - 3s - loss: 0.0398 - mean_euclidean: 0.0398 - val_loss: 0.1783 - val_mean_euclidean: 0.1783\n",
      "Epoch 68/200\n",
      "65763/65763 [==============================] - 3s - loss: 0.0397 - mean_euclidean: 0.0397 - val_loss: 0.1799 - val_mean_euclidean: 0.1799\n",
      "Epoch 69/200\n",
      "65763/65763 [==============================] - 3s - loss: 0.0392 - mean_euclidean: 0.0392 - val_loss: 0.1804 - val_mean_euclidean: 0.1804\n",
      "Epoch 70/200\n",
      "65763/65763 [==============================] - 3s - loss: 0.0380 - mean_euclidean: 0.0380 - val_loss: 0.1770 - val_mean_euclidean: 0.1770\n",
      "Epoch 71/200\n",
      "65763/65763 [==============================] - 3s - loss: 0.0383 - mean_euclidean: 0.0383 - val_loss: 0.1797 - val_mean_euclidean: 0.1797\n",
      "Epoch 72/200\n",
      "65763/65763 [==============================] - 3s - loss: 0.0379 - mean_euclidean: 0.0379 - val_loss: 0.1781 - val_mean_euclidean: 0.1781\n",
      "Epoch 73/200\n",
      "65763/65763 [==============================] - 3s - loss: 0.0369 - mean_euclidean: 0.0369 - val_loss: 0.1751 - val_mean_euclidean: 0.1751\n",
      "Epoch 74/200\n",
      "65763/65763 [==============================] - 3s - loss: 0.0369 - mean_euclidean: 0.0369 - val_loss: 0.1805 - val_mean_euclidean: 0.1805\n",
      "Epoch 75/200\n",
      "65763/65763 [==============================] - 3s - loss: 0.0368 - mean_euclidean: 0.0368 - val_loss: 0.1825 - val_mean_euclidean: 0.1825\n",
      "Epoch 76/200\n",
      "65763/65763 [==============================] - 3s - loss: 0.0364 - mean_euclidean: 0.0364 - val_loss: 0.1807 - val_mean_euclidean: 0.1807\n",
      "Epoch 77/200\n",
      "65763/65763 [==============================] - 3s - loss: 0.0362 - mean_euclidean: 0.0362 - val_loss: 0.1788 - val_mean_euclidean: 0.1788\n",
      "Epoch 78/200\n",
      "65763/65763 [==============================] - 3s - loss: 0.0353 - mean_euclidean: 0.0353 - val_loss: 0.1813 - val_mean_euclidean: 0.1813\n",
      "Epoch 79/200\n",
      "65763/65763 [==============================] - 3s - loss: 0.0358 - mean_euclidean: 0.0358 - val_loss: 0.1782 - val_mean_euclidean: 0.1782\n",
      "Epoch 80/200\n",
      "65763/65763 [==============================] - 3s - loss: 0.0353 - mean_euclidean: 0.0353 - val_loss: 0.1782 - val_mean_euclidean: 0.1782\n",
      "Epoch 81/200\n",
      "65763/65763 [==============================] - 3s - loss: 0.0341 - mean_euclidean: 0.0341 - val_loss: 0.1772 - val_mean_euclidean: 0.1772\n",
      "Epoch 82/200\n",
      "65763/65763 [==============================] - 3s - loss: 0.0343 - mean_euclidean: 0.0343 - val_loss: 0.1769 - val_mean_euclidean: 0.1769\n",
      "Epoch 83/200\n",
      "65763/65763 [==============================] - 3s - loss: 0.0338 - mean_euclidean: 0.0338 - val_loss: 0.1812 - val_mean_euclidean: 0.1812\n",
      "Epoch 84/200\n",
      "65763/65763 [==============================] - 3s - loss: 0.0340 - mean_euclidean: 0.0340 - val_loss: 0.1770 - val_mean_euclidean: 0.1770\n",
      "Epoch 85/200\n",
      "65763/65763 [==============================] - 3s - loss: 0.0338 - mean_euclidean: 0.0338 - val_loss: 0.1798 - val_mean_euclidean: 0.1798\n",
      "Epoch 86/200\n",
      "65763/65763 [==============================] - 3s - loss: 0.0333 - mean_euclidean: 0.0333 - val_loss: 0.1774 - val_mean_euclidean: 0.1774\n",
      "Epoch 87/200\n",
      "65763/65763 [==============================] - 3s - loss: 0.0327 - mean_euclidean: 0.0327 - val_loss: 0.1784 - val_mean_euclidean: 0.1784\n",
      "Epoch 88/200\n",
      "65763/65763 [==============================] - 3s - loss: 0.0325 - mean_euclidean: 0.0325 - val_loss: 0.1815 - val_mean_euclidean: 0.1815\n",
      "Epoch 89/200\n",
      "65763/65763 [==============================] - 3s - loss: 0.0327 - mean_euclidean: 0.0327 - val_loss: 0.1770 - val_mean_euclidean: 0.1770\n",
      "Epoch 90/200\n",
      "65763/65763 [==============================] - 3s - loss: 0.0322 - mean_euclidean: 0.0322 - val_loss: 0.1790 - val_mean_euclidean: 0.1790\n",
      "Epoch 91/200\n",
      "65763/65763 [==============================] - 3s - loss: 0.0318 - mean_euclidean: 0.0318 - val_loss: 0.1799 - val_mean_euclidean: 0.1799\n",
      "Epoch 92/200\n",
      "65763/65763 [==============================] - 3s - loss: 0.0317 - mean_euclidean: 0.0317 - val_loss: 0.1780 - val_mean_euclidean: 0.1780\n",
      "Epoch 93/200\n",
      "65763/65763 [==============================] - 3s - loss: 0.0320 - mean_euclidean: 0.0320 - val_loss: 0.1789 - val_mean_euclidean: 0.1789\n",
      "Epoch 94/200\n",
      "65763/65763 [==============================] - 3s - loss: 0.0313 - mean_euclidean: 0.0313 - val_loss: 0.1797 - val_mean_euclidean: 0.1797\n",
      "Epoch 95/200\n",
      "65763/65763 [==============================] - 3s - loss: 0.0309 - mean_euclidean: 0.0309 - val_loss: 0.1798 - val_mean_euclidean: 0.1798\n",
      "Epoch 96/200\n",
      "65763/65763 [==============================] - 3s - loss: 0.0307 - mean_euclidean: 0.0307 - val_loss: 0.1807 - val_mean_euclidean: 0.1807\n",
      "Epoch 97/200\n",
      "65763/65763 [==============================] - 3s - loss: 0.0306 - mean_euclidean: 0.0306 - val_loss: 0.1783 - val_mean_euclidean: 0.1783\n",
      "Epoch 98/200\n",
      "65763/65763 [==============================] - 3s - loss: 0.0301 - mean_euclidean: 0.0301 - val_loss: 0.1794 - val_mean_euclidean: 0.1794\n",
      "Epoch 99/200\n",
      "65763/65763 [==============================] - 3s - loss: 0.0299 - mean_euclidean: 0.0299 - val_loss: 0.1778 - val_mean_euclidean: 0.1778\n",
      "Epoch 100/200\n",
      "65763/65763 [==============================] - 3s - loss: 0.0301 - mean_euclidean: 0.0301 - val_loss: 0.1773 - val_mean_euclidean: 0.1773\n",
      "Epoch 101/200\n",
      "65763/65763 [==============================] - 3s - loss: 0.0295 - mean_euclidean: 0.0295 - val_loss: 0.1738 - val_mean_euclidean: 0.1738\n",
      "Epoch 102/200\n",
      "65763/65763 [==============================] - 3s - loss: 0.0293 - mean_euclidean: 0.0293 - val_loss: 0.1750 - val_mean_euclidean: 0.1750\n",
      "Epoch 103/200\n",
      "65763/65763 [==============================] - 3s - loss: 0.0289 - mean_euclidean: 0.0289 - val_loss: 0.1751 - val_mean_euclidean: 0.1751\n",
      "Epoch 104/200\n",
      "65763/65763 [==============================] - 3s - loss: 0.0290 - mean_euclidean: 0.0290 - val_loss: 0.1736 - val_mean_euclidean: 0.1736\n",
      "Epoch 105/200\n",
      "65763/65763 [==============================] - 3s - loss: 0.0289 - mean_euclidean: 0.0289 - val_loss: 0.1757 - val_mean_euclidean: 0.1757\n",
      "Epoch 106/200\n",
      "65763/65763 [==============================] - 3s - loss: 0.0287 - mean_euclidean: 0.0287 - val_loss: 0.1768 - val_mean_euclidean: 0.1768\n",
      "Epoch 107/200\n",
      "65763/65763 [==============================] - 3s - loss: 0.0281 - mean_euclidean: 0.0281 - val_loss: 0.1760 - val_mean_euclidean: 0.1760\n",
      "Epoch 108/200\n",
      "65763/65763 [==============================] - 3s - loss: 0.0283 - mean_euclidean: 0.0283 - val_loss: 0.1743 - val_mean_euclidean: 0.1743\n",
      "Epoch 109/200\n",
      "65763/65763 [==============================] - 3s - loss: 0.0280 - mean_euclidean: 0.0280 - val_loss: 0.1756 - val_mean_euclidean: 0.1756\n",
      "Epoch 110/200\n",
      "65763/65763 [==============================] - 3s - loss: 0.0280 - mean_euclidean: 0.0280 - val_loss: 0.1760 - val_mean_euclidean: 0.1760\n",
      "Epoch 111/200\n",
      "65763/65763 [==============================] - 3s - loss: 0.0277 - mean_euclidean: 0.0277 - val_loss: 0.1751 - val_mean_euclidean: 0.1751\n",
      "Epoch 112/200\n",
      "65763/65763 [==============================] - 3s - loss: 0.0274 - mean_euclidean: 0.0274 - val_loss: 0.1781 - val_mean_euclidean: 0.1781\n",
      "Epoch 113/200\n",
      "65763/65763 [==============================] - 3s - loss: 0.0275 - mean_euclidean: 0.0275 - val_loss: 0.1776 - val_mean_euclidean: 0.1776\n",
      "Epoch 114/200\n",
      "65763/65763 [==============================] - 3s - loss: 0.0273 - mean_euclidean: 0.0273 - val_loss: 0.1751 - val_mean_euclidean: 0.1751\n",
      "Epoch 115/200\n",
      "65763/65763 [==============================] - 3s - loss: 0.0269 - mean_euclidean: 0.0269 - val_loss: 0.1759 - val_mean_euclidean: 0.1759\n",
      "Epoch 116/200\n",
      "65763/65763 [==============================] - 3s - loss: 0.0265 - mean_euclidean: 0.0265 - val_loss: 0.1756 - val_mean_euclidean: 0.1756\n",
      "Epoch 117/200\n",
      "65763/65763 [==============================] - 3s - loss: 0.0269 - mean_euclidean: 0.0269 - val_loss: 0.1741 - val_mean_euclidean: 0.1741\n",
      "Epoch 118/200\n",
      "65763/65763 [==============================] - 3s - loss: 0.0262 - mean_euclidean: 0.0262 - val_loss: 0.1761 - val_mean_euclidean: 0.1761\n",
      "Epoch 119/200\n",
      "65763/65763 [==============================] - 3s - loss: 0.0263 - mean_euclidean: 0.0263 - val_loss: 0.1752 - val_mean_euclidean: 0.1752\n",
      "Epoch 120/200\n",
      "65763/65763 [==============================] - 3s - loss: 0.0264 - mean_euclidean: 0.0264 - val_loss: 0.1753 - val_mean_euclidean: 0.1753\n",
      "Epoch 121/200\n",
      "65763/65763 [==============================] - 3s - loss: 0.0257 - mean_euclidean: 0.0257 - val_loss: 0.1777 - val_mean_euclidean: 0.1777\n",
      "Epoch 122/200\n",
      "65763/65763 [==============================] - 3s - loss: 0.0260 - mean_euclidean: 0.0260 - val_loss: 0.1772 - val_mean_euclidean: 0.1772\n",
      "Epoch 123/200\n",
      "65763/65763 [==============================] - 3s - loss: 0.0256 - mean_euclidean: 0.0256 - val_loss: 0.1753 - val_mean_euclidean: 0.1753\n",
      "Epoch 124/200\n",
      "65763/65763 [==============================] - 3s - loss: 0.0255 - mean_euclidean: 0.0255 - val_loss: 0.1740 - val_mean_euclidean: 0.1740\n",
      "Epoch 125/200\n",
      "65763/65763 [==============================] - 3s - loss: 0.0258 - mean_euclidean: 0.0258 - val_loss: 0.1753 - val_mean_euclidean: 0.1753\n",
      "Epoch 126/200\n",
      "65763/65763 [==============================] - 3s - loss: 0.0250 - mean_euclidean: 0.0250 - val_loss: 0.1766 - val_mean_euclidean: 0.1766\n",
      "Epoch 127/200\n",
      "65763/65763 [==============================] - 3s - loss: 0.0249 - mean_euclidean: 0.0249 - val_loss: 0.1761 - val_mean_euclidean: 0.1761\n",
      "Epoch 128/200\n",
      "65763/65763 [==============================] - 3s - loss: 0.0247 - mean_euclidean: 0.0247 - val_loss: 0.1760 - val_mean_euclidean: 0.1760\n",
      "Epoch 129/200\n",
      "65763/65763 [==============================] - 3s - loss: 0.0252 - mean_euclidean: 0.0252 - val_loss: 0.1758 - val_mean_euclidean: 0.1758\n",
      "Epoch 130/200\n",
      "65763/65763 [==============================] - 3s - loss: 0.0248 - mean_euclidean: 0.0248 - val_loss: 0.1770 - val_mean_euclidean: 0.1770\n",
      "Epoch 131/200\n",
      "65763/65763 [==============================] - 3s - loss: 0.0243 - mean_euclidean: 0.0243 - val_loss: 0.1758 - val_mean_euclidean: 0.1758\n",
      "Epoch 132/200\n",
      "65763/65763 [==============================] - 3s - loss: 0.0243 - mean_euclidean: 0.0243 - val_loss: 0.1755 - val_mean_euclidean: 0.1755\n",
      "Epoch 133/200\n",
      "65763/65763 [==============================] - 3s - loss: 0.0240 - mean_euclidean: 0.0240 - val_loss: 0.1772 - val_mean_euclidean: 0.1772\n",
      "Epoch 134/200\n",
      "65763/65763 [==============================] - 3s - loss: 0.0240 - mean_euclidean: 0.0240 - val_loss: 0.1760 - val_mean_euclidean: 0.1760\n",
      "Epoch 135/200\n",
      "65763/65763 [==============================] - 3s - loss: 0.0240 - mean_euclidean: 0.0240 - val_loss: 0.1749 - val_mean_euclidean: 0.1749\n",
      "Epoch 136/200\n",
      "65763/65763 [==============================] - 3s - loss: 0.0239 - mean_euclidean: 0.0239 - val_loss: 0.1728 - val_mean_euclidean: 0.1728\n",
      "Epoch 137/200\n",
      "65763/65763 [==============================] - 3s - loss: 0.0236 - mean_euclidean: 0.0236 - val_loss: 0.1761 - val_mean_euclidean: 0.1761\n",
      "Epoch 138/200\n",
      "65763/65763 [==============================] - 3s - loss: 0.0234 - mean_euclidean: 0.0234 - val_loss: 0.1756 - val_mean_euclidean: 0.1756\n",
      "Epoch 139/200\n",
      "65763/65763 [==============================] - 3s - loss: 0.0237 - mean_euclidean: 0.0237 - val_loss: 0.1750 - val_mean_euclidean: 0.1750\n",
      "Epoch 140/200\n",
      "65763/65763 [==============================] - 3s - loss: 0.0229 - mean_euclidean: 0.0229 - val_loss: 0.1760 - val_mean_euclidean: 0.1760\n",
      "Epoch 141/200\n",
      "65763/65763 [==============================] - 3s - loss: 0.0230 - mean_euclidean: 0.0230 - val_loss: 0.1754 - val_mean_euclidean: 0.1754\n",
      "Epoch 142/200\n",
      "65763/65763 [==============================] - 3s - loss: 0.0237 - mean_euclidean: 0.0237 - val_loss: 0.1750 - val_mean_euclidean: 0.1750\n",
      "Epoch 143/200\n",
      "65763/65763 [==============================] - 3s - loss: 0.0230 - mean_euclidean: 0.0230 - val_loss: 0.1774 - val_mean_euclidean: 0.1774\n",
      "Epoch 144/200\n",
      "65763/65763 [==============================] - 3s - loss: 0.0229 - mean_euclidean: 0.0229 - val_loss: 0.1751 - val_mean_euclidean: 0.1751\n",
      "Epoch 145/200\n",
      "65763/65763 [==============================] - 3s - loss: 0.0227 - mean_euclidean: 0.0227 - val_loss: 0.1757 - val_mean_euclidean: 0.1757\n",
      "Epoch 146/200\n",
      "65763/65763 [==============================] - 3s - loss: 0.0227 - mean_euclidean: 0.0227 - val_loss: 0.1719 - val_mean_euclidean: 0.1719\n",
      "Epoch 147/200\n",
      "65763/65763 [==============================] - 3s - loss: 0.0221 - mean_euclidean: 0.0221 - val_loss: 0.1759 - val_mean_euclidean: 0.1759\n",
      "Epoch 148/200\n",
      "65763/65763 [==============================] - 3s - loss: 0.0223 - mean_euclidean: 0.0223 - val_loss: 0.1745 - val_mean_euclidean: 0.1745\n",
      "Epoch 149/200\n",
      "65763/65763 [==============================] - 3s - loss: 0.0222 - mean_euclidean: 0.0222 - val_loss: 0.1757 - val_mean_euclidean: 0.1757\n",
      "Epoch 150/200\n",
      "65763/65763 [==============================] - 3s - loss: 0.0223 - mean_euclidean: 0.0223 - val_loss: 0.1749 - val_mean_euclidean: 0.1749\n",
      "Epoch 151/200\n",
      "65763/65763 [==============================] - 3s - loss: 0.0219 - mean_euclidean: 0.0219 - val_loss: 0.1766 - val_mean_euclidean: 0.1766\n",
      "Epoch 152/200\n",
      "65763/65763 [==============================] - 3s - loss: 0.0219 - mean_euclidean: 0.0219 - val_loss: 0.1747 - val_mean_euclidean: 0.1747\n",
      "Epoch 153/200\n",
      "65763/65763 [==============================] - 3s - loss: 0.0216 - mean_euclidean: 0.0216 - val_loss: 0.1745 - val_mean_euclidean: 0.1745\n",
      "Epoch 154/200\n",
      "65763/65763 [==============================] - 3s - loss: 0.0218 - mean_euclidean: 0.0218 - val_loss: 0.1759 - val_mean_euclidean: 0.1759\n",
      "Epoch 155/200\n",
      "65763/65763 [==============================] - 3s - loss: 0.0215 - mean_euclidean: 0.0215 - val_loss: 0.1749 - val_mean_euclidean: 0.1749\n",
      "Epoch 156/200\n",
      "65763/65763 [==============================] - 3s - loss: 0.0215 - mean_euclidean: 0.0215 - val_loss: 0.1756 - val_mean_euclidean: 0.1756\n",
      "Epoch 157/200\n",
      "65763/65763 [==============================] - 3s - loss: 0.0211 - mean_euclidean: 0.0211 - val_loss: 0.1745 - val_mean_euclidean: 0.1745\n",
      "Epoch 158/200\n",
      "65763/65763 [==============================] - 3s - loss: 0.0216 - mean_euclidean: 0.0216 - val_loss: 0.1757 - val_mean_euclidean: 0.1757\n",
      "Epoch 159/200\n",
      "65763/65763 [==============================] - 3s - loss: 0.0212 - mean_euclidean: 0.0212 - val_loss: 0.1733 - val_mean_euclidean: 0.1733\n",
      "Epoch 160/200\n",
      "65763/65763 [==============================] - 3s - loss: 0.0212 - mean_euclidean: 0.0212 - val_loss: 0.1734 - val_mean_euclidean: 0.1734\n",
      "Epoch 161/200\n",
      "65763/65763 [==============================] - 3s - loss: 0.0207 - mean_euclidean: 0.0207 - val_loss: 0.1737 - val_mean_euclidean: 0.1737\n",
      "Epoch 162/200\n"
     ]
    },
    {
     "name": "stdout",
     "output_type": "stream",
     "text": [
      "65763/65763 [==============================] - 3s - loss: 0.0207 - mean_euclidean: 0.0207 - val_loss: 0.1749 - val_mean_euclidean: 0.1749\n",
      "Epoch 163/200\n",
      "65763/65763 [==============================] - 3s - loss: 0.0205 - mean_euclidean: 0.0205 - val_loss: 0.1753 - val_mean_euclidean: 0.1753\n",
      "Epoch 164/200\n",
      "65763/65763 [==============================] - 3s - loss: 0.0207 - mean_euclidean: 0.0207 - val_loss: 0.1752 - val_mean_euclidean: 0.1752\n",
      "Epoch 165/200\n",
      "65763/65763 [==============================] - 3s - loss: 0.0209 - mean_euclidean: 0.0209 - val_loss: 0.1753 - val_mean_euclidean: 0.1753\n",
      "Epoch 166/200\n",
      "65763/65763 [==============================] - 3s - loss: 0.0207 - mean_euclidean: 0.0207 - val_loss: 0.1759 - val_mean_euclidean: 0.1759\n",
      "Epoch 167/200\n",
      "65763/65763 [==============================] - 3s - loss: 0.0203 - mean_euclidean: 0.0203 - val_loss: 0.1757 - val_mean_euclidean: 0.1757\n",
      "Epoch 168/200\n",
      "65763/65763 [==============================] - 3s - loss: 0.0203 - mean_euclidean: 0.0203 - val_loss: 0.1746 - val_mean_euclidean: 0.1746\n",
      "Epoch 169/200\n",
      "65763/65763 [==============================] - 3s - loss: 0.0204 - mean_euclidean: 0.0204 - val_loss: 0.1749 - val_mean_euclidean: 0.1749\n",
      "Epoch 170/200\n",
      "65763/65763 [==============================] - 3s - loss: 0.0200 - mean_euclidean: 0.0200 - val_loss: 0.1762 - val_mean_euclidean: 0.1762\n",
      "Epoch 171/200\n",
      "65763/65763 [==============================] - 3s - loss: 0.0201 - mean_euclidean: 0.0201 - val_loss: 0.1750 - val_mean_euclidean: 0.1750\n",
      "Epoch 172/200\n",
      "65763/65763 [==============================] - 3s - loss: 0.0200 - mean_euclidean: 0.0200 - val_loss: 0.1748 - val_mean_euclidean: 0.1748\n",
      "Epoch 173/200\n",
      "65763/65763 [==============================] - 3s - loss: 0.0196 - mean_euclidean: 0.0196 - val_loss: 0.1743 - val_mean_euclidean: 0.1743\n",
      "Epoch 174/200\n",
      "65763/65763 [==============================] - 3s - loss: 0.0198 - mean_euclidean: 0.0198 - val_loss: 0.1760 - val_mean_euclidean: 0.1760\n",
      "Epoch 175/200\n",
      "65763/65763 [==============================] - 3s - loss: 0.0196 - mean_euclidean: 0.0196 - val_loss: 0.1771 - val_mean_euclidean: 0.1771\n",
      "Epoch 176/200\n",
      "65763/65763 [==============================] - 3s - loss: 0.0193 - mean_euclidean: 0.0193 - val_loss: 0.1739 - val_mean_euclidean: 0.1739\n",
      "Epoch 177/200\n",
      "65763/65763 [==============================] - 3s - loss: 0.0199 - mean_euclidean: 0.0199 - val_loss: 0.1755 - val_mean_euclidean: 0.1755\n",
      "Epoch 178/200\n",
      "65763/65763 [==============================] - 3s - loss: 0.0195 - mean_euclidean: 0.0195 - val_loss: 0.1764 - val_mean_euclidean: 0.1764\n",
      "Epoch 179/200\n",
      "65763/65763 [==============================] - 3s - loss: 0.0192 - mean_euclidean: 0.0192 - val_loss: 0.1751 - val_mean_euclidean: 0.1751\n",
      "Epoch 180/200\n",
      "65763/65763 [==============================] - 3s - loss: 0.0193 - mean_euclidean: 0.0193 - val_loss: 0.1747 - val_mean_euclidean: 0.1747\n",
      "Epoch 181/200\n",
      "65763/65763 [==============================] - 3s - loss: 0.0192 - mean_euclidean: 0.0192 - val_loss: 0.1742 - val_mean_euclidean: 0.1742\n",
      "Epoch 182/200\n",
      "65763/65763 [==============================] - 3s - loss: 0.0189 - mean_euclidean: 0.0189 - val_loss: 0.1746 - val_mean_euclidean: 0.1746\n",
      "Epoch 183/200\n",
      "65763/65763 [==============================] - 3s - loss: 0.0186 - mean_euclidean: 0.0186 - val_loss: 0.1746 - val_mean_euclidean: 0.1746\n",
      "Epoch 184/200\n",
      "65763/65763 [==============================] - 3s - loss: 0.0189 - mean_euclidean: 0.0189 - val_loss: 0.1756 - val_mean_euclidean: 0.1756\n",
      "Epoch 185/200\n",
      "65763/65763 [==============================] - 3s - loss: 0.0188 - mean_euclidean: 0.0188 - val_loss: 0.1748 - val_mean_euclidean: 0.1748\n",
      "Epoch 186/200\n",
      "65763/65763 [==============================] - 3s - loss: 0.0186 - mean_euclidean: 0.0186 - val_loss: 0.1758 - val_mean_euclidean: 0.1758\n",
      "Epoch 187/200\n",
      "65763/65763 [==============================] - 3s - loss: 0.0184 - mean_euclidean: 0.0184 - val_loss: 0.1743 - val_mean_euclidean: 0.1743\n",
      "Epoch 188/200\n",
      "65763/65763 [==============================] - 3s - loss: 0.0183 - mean_euclidean: 0.0183 - val_loss: 0.1748 - val_mean_euclidean: 0.1748\n",
      "Epoch 189/200\n",
      "65763/65763 [==============================] - 3s - loss: 0.0184 - mean_euclidean: 0.0184 - val_loss: 0.1749 - val_mean_euclidean: 0.1749\n",
      "Epoch 190/200\n",
      "65763/65763 [==============================] - 3s - loss: 0.0188 - mean_euclidean: 0.0188 - val_loss: 0.1758 - val_mean_euclidean: 0.1758\n",
      "Epoch 191/200\n",
      "65763/65763 [==============================] - 3s - loss: 0.0182 - mean_euclidean: 0.0182 - val_loss: 0.1758 - val_mean_euclidean: 0.1758\n",
      "Epoch 192/200\n",
      "65763/65763 [==============================] - 3s - loss: 0.0183 - mean_euclidean: 0.0183 - val_loss: 0.1744 - val_mean_euclidean: 0.1744\n",
      "Epoch 193/200\n",
      "65763/65763 [==============================] - 3s - loss: 0.0183 - mean_euclidean: 0.0183 - val_loss: 0.1737 - val_mean_euclidean: 0.1737\n",
      "Epoch 194/200\n",
      "65763/65763 [==============================] - 3s - loss: 0.0181 - mean_euclidean: 0.0181 - val_loss: 0.1769 - val_mean_euclidean: 0.1769\n",
      "Epoch 195/200\n",
      "65763/65763 [==============================] - 3s - loss: 0.0180 - mean_euclidean: 0.0180 - val_loss: 0.1763 - val_mean_euclidean: 0.1763\n",
      "Epoch 196/200\n",
      "65763/65763 [==============================] - 3s - loss: 0.0179 - mean_euclidean: 0.0179 - val_loss: 0.1729 - val_mean_euclidean: 0.1729\n",
      "Epoch 197/200\n",
      "65763/65763 [==============================] - 3s - loss: 0.0178 - mean_euclidean: 0.0178 - val_loss: 0.1755 - val_mean_euclidean: 0.1755\n",
      "Epoch 198/200\n",
      "65763/65763 [==============================] - 3s - loss: 0.0178 - mean_euclidean: 0.0178 - val_loss: 0.1749 - val_mean_euclidean: 0.1749\n",
      "Epoch 199/200\n",
      "65763/65763 [==============================] - 3s - loss: 0.0179 - mean_euclidean: 0.0179 - val_loss: 0.1751 - val_mean_euclidean: 0.1751\n",
      "Epoch 200/200\n",
      "65763/65763 [==============================] - 3s - loss: 0.0176 - mean_euclidean: 0.0176 - val_loss: 0.1753 - val_mean_euclidean: 0.1753\n"
     ]
    },
    {
     "data": {
      "text/plain": [
       "<tensorflow.contrib.keras.python.keras.callbacks.History at 0x7f3a61f46e10>"
      ]
     },
     "execution_count": 8,
     "metadata": {},
     "output_type": "execute_result"
    }
   ],
   "source": [
    "model.fit(\n",
    "    x={\n",
    "        'left_imgs':train_imgs_left,\n",
    "        'right_imgs': train_imgs_right,\n",
    "        'features': train_data[FEATURES].as_matrix()\n",
    "    },\n",
    "    y=train_data[TARGETS].as_matrix(),\n",
    "    validation_data=(\n",
    "        {\n",
    "            'left_imgs': validation_imgs_left,\n",
    "            'right_imgs': validation_imgs_right,\n",
    "            'features': validation_data[FEATURES].as_matrix()\n",
    "        },\n",
    "        validation_data[TARGETS].as_matrix()\n",
    "    ),\n",
    "    epochs=EPOCHS,\n",
    "    batch_size=BATCH_SIZE,\n",
    "    verbose=1, callbacks=None, shuffle=True, class_weight=None, sample_weight=None, initial_epoch=0\n",
    ")"
   ]
  },
  {
   "cell_type": "code",
   "execution_count": 9,
   "metadata": {},
   "outputs": [],
   "source": [
    "model.save(config_keras.PATH_MODELS_KERAS+MODEL_NAME)"
   ]
  },
  {
   "cell_type": "markdown",
   "metadata": {},
   "source": [
    "### Test"
   ]
  },
  {
   "cell_type": "code",
   "execution_count": 10,
   "metadata": {},
   "outputs": [],
   "source": [
    "model_test = keras.models.load_model(\n",
    "    filepath=config_keras.PATH_MODELS_KERAS+MODEL_NAME,\n",
    "    custom_objects={\n",
    "        \"mean_euclidean\": losses.mean_euclidean,\n",
    "        \"ms_euclidean\": losses.ms_euclidean,\n",
    "        \"reg_mean_euclidean\": losses.reg_mean_euclidean\n",
    "    }\n",
    ")"
   ]
  },
  {
   "cell_type": "code",
   "execution_count": 11,
   "metadata": {
    "scrolled": true
   },
   "outputs": [
    {
     "name": "stdout",
     "output_type": "stream",
     "text": [
      "440/447 [============================>.] - ETA: 0s"
     ]
    },
    {
     "data": {
      "text/plain": [
       "[0.17644850096521561, 0.17644850096521561]"
      ]
     },
     "execution_count": 11,
     "metadata": {},
     "output_type": "execute_result"
    }
   ],
   "source": [
    "model_test.evaluate(\n",
    "    x={\n",
    "        'left_imgs':test_imgs_left,\n",
    "        'right_imgs': test_imgs_right,\n",
    "        'features': test_data[FEATURES].as_matrix()\n",
    "    },\n",
    "    y=test_data[TARGETS].as_matrix(),\n",
    "    batch_size=1,\n",
    "    verbose=1, sample_weight=None\n",
    ")"
   ]
  },
  {
   "cell_type": "markdown",
   "metadata": {},
   "source": [
    "### Results\n",
    "\n",
    "\n",
    "| Name | Epochs | Batch Size | Learning rate | Decay | Loss | Train | Validation | Test |\n",
    "|:--:|:--:|:--:|:--:|:--:|:--:|:--:|:--:|:--:|\n",
    "| 01_baseline-01 | 50 | 128| 0.0005 | 0.00001 | mean_euclidean | 0.0473 | 0.1880 | 0.2112 |\n",
    "| 01_baseline-02 | 200 | 128| 0.0005 | 0.00001 | mean_euclidean | 0.0176 | 0.1753 | 0.1765 |\n",
    "\n",
    "157 epochs seem to be enough"
   ]
  },
  {
   "cell_type": "markdown",
   "metadata": {},
   "source": [
    "### Errors"
   ]
  },
  {
   "cell_type": "code",
   "execution_count": 12,
   "metadata": {},
   "outputs": [],
   "source": [
    "import seaborn as sns\n",
    "%matplotlib inline\n"
   ]
  },
  {
   "cell_type": "markdown",
   "metadata": {},
   "source": [
    "#### Test"
   ]
  },
  {
   "cell_type": "code",
   "execution_count": 13,
   "metadata": {
    "scrolled": false
   },
   "outputs": [],
   "source": [
    "test_predictions = model_test.predict(\n",
    "    x={\n",
    "        'left_imgs':test_imgs_left,\n",
    "        'right_imgs': test_imgs_right,\n",
    "        'features': test_data[FEATURES].as_matrix()\n",
    "    }\n",
    ")"
   ]
  },
  {
   "cell_type": "code",
   "execution_count": 14,
   "metadata": {},
   "outputs": [
    {
     "name": "stderr",
     "output_type": "stream",
     "text": [
      "/home/ubuntu/hci-eye_tracking-workshop/venv3.5/lib/python3.5/site-packages/matplotlib/font_manager.py:1316: UserWarning: findfont: Font family ['sans-serif'] not found. Falling back to DejaVu Sans\n",
      "  (prop.get_family(), self.defaultFamily[fontext]))\n"
     ]
    },
    {
     "data": {
      "text/plain": [
       "<seaborn.axisgrid.JointGrid at 0x7f39e4426550>"
      ]
     },
     "execution_count": 14,
     "metadata": {},
     "output_type": "execute_result"
    },
    {
     "data": {
      "image/png": "[encoded data removed]",
      "text/plain": [
       "<matplotlib.figure.Figure at 0x7f39e4426518>"
      ]
     },
     "metadata": {},
     "output_type": "display_data"
    }
   ],
   "source": [
    "test_errors = test_data[TARGETS].as_matrix()-test_predictions\n",
    "sns.jointplot(x=test_errors[:,0], y=test_errors[:,1], kind=\"kde\")"
   ]
  },
  {
   "cell_type": "code",
   "execution_count": 15,
   "metadata": {
    "scrolled": true
   },
   "outputs": [
    {
     "data": {
      "text/plain": [
       "<matplotlib.axes._subplots.AxesSubplot at 0x7f39e435feb8>"
      ]
     },
     "execution_count": 15,
     "metadata": {},
     "output_type": "execute_result"
    },
    {
     "name": "stderr",
     "output_type": "stream",
     "text": [
      "/home/ubuntu/hci-eye_tracking-workshop/venv3.5/lib/python3.5/site-packages/matplotlib/font_manager.py:1316: UserWarning: findfont: Font family ['sans-serif'] not found. Falling back to DejaVu Sans\n",
      "  (prop.get_family(), self.defaultFamily[fontext]))\n"
     ]
    },
    {
     "data": {
      "image/png": "[encoded data removed]",
      "text/plain": [
       "<matplotlib.figure.Figure at 0x7f39e43da6d8>"
      ]
     },
     "metadata": {},
     "output_type": "display_data"
    }
   ],
   "source": [
    "test_euclidean_errors = np.linalg.norm(test_errors, ord=2, axis=1)\n",
    "sns.distplot(test_euclidean_errors)"
   ]
  },
  {
   "cell_type": "markdown",
   "metadata": {},
   "source": [
    "#### Train"
   ]
  },
  {
   "cell_type": "code",
   "execution_count": 16,
   "metadata": {},
   "outputs": [],
   "source": [
    "train_predictions = model_test.predict(\n",
    "    x={\n",
    "        'left_imgs':train_imgs_left,\n",
    "        'right_imgs': train_imgs_right,\n",
    "        'features': train_data[FEATURES].as_matrix()\n",
    "    }\n",
    ")"
   ]
  },
  {
   "cell_type": "code",
   "execution_count": 17,
   "metadata": {},
   "outputs": [
    {
     "name": "stderr",
     "output_type": "stream",
     "text": [
      "/home/ubuntu/hci-eye_tracking-workshop/venv3.5/lib/python3.5/site-packages/matplotlib/font_manager.py:1316: UserWarning: findfont: Font family ['sans-serif'] not found. Falling back to DejaVu Sans\n",
      "  (prop.get_family(), self.defaultFamily[fontext]))\n"
     ]
    },
    {
     "data": {
      "text/plain": [
       "<seaborn.axisgrid.JointGrid at 0x7f39e42daa90>"
      ]
     },
     "execution_count": 17,
     "metadata": {},
     "output_type": "execute_result"
    },
    {
     "data": {
      "image/png": "[encoded data removed]",
      "text/plain": [
       "<matplotlib.figure.Figure at 0x7f3a600e2c18>"
      ]
     },
     "metadata": {},
     "output_type": "display_data"
    }
   ],
   "source": [
    "train_errors = train_data[TARGETS].as_matrix()-train_predictions\n",
    "sns.jointplot(x=train_errors[:,0], y=train_errors[:,1], kind=\"kde\")"
   ]
  },
  {
   "cell_type": "code",
   "execution_count": 18,
   "metadata": {},
   "outputs": [
    {
     "data": {
      "text/plain": [
       "<matplotlib.axes._subplots.AxesSubplot at 0x7f39e4193908>"
      ]
     },
     "execution_count": 18,
     "metadata": {},
     "output_type": "execute_result"
    },
    {
     "name": "stderr",
     "output_type": "stream",
     "text": [
      "/home/ubuntu/hci-eye_tracking-workshop/venv3.5/lib/python3.5/site-packages/matplotlib/font_manager.py:1316: UserWarning: findfont: Font family ['sans-serif'] not found. Falling back to DejaVu Sans\n",
      "  (prop.get_family(), self.defaultFamily[fontext]))\n"
     ]
    },
    {
     "data": {
      "image/png": "[encoded data removed]",
      "text/plain": [
       "<matplotlib.figure.Figure at 0x7f39e424d6a0>"
      ]
     },
     "metadata": {},
     "output_type": "display_data"
    }
   ],
   "source": [
    "train_euclidean_errors = np.linalg.norm(train_errors, ord=2, axis=1)\n",
    "sns.distplot(train_euclidean_errors)"
   ]
  }
 ],
 "metadata": {
  "kernelspec": {
   "display_name": "Python 3",
   "language": "python",
   "name": "python3"
  },
  "language_info": {
   "codemirror_mode": {
    "name": "ipython",
    "version": 3
   },
   "file_extension": ".py",
   "mimetype": "text/x-python",
   "name": "python",
   "nbconvert_exporter": "python",
   "pygments_lexer": "ipython3",
   "version": "3.5.2"
  }
 },
 "nbformat": 4,
 "nbformat_minor": 2
}
