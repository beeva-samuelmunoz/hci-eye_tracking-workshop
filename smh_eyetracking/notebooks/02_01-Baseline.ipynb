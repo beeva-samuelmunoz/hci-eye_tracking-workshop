{
 "cells": [
  {
   "cell_type": "markdown",
   "metadata": {},
   "source": [
    "# 02_01 Baseline\n",
    "## Library: Keras\n",
    "## Dataset: Features02"
   ]
  },
  {
   "cell_type": "code",
   "execution_count": 1,
   "metadata": {},
   "outputs": [],
   "source": [
    "import pandas as pd\n",
    "import numpy as np\n",
    "from tensorflow.contrib import keras\n",
    "\n",
    "from smh_eyetracking.features02 import config as config_features02\n",
    "from smh_eyetracking.features02.utils.features02_dlib import FEATURES, TARGETS\n",
    "from smh_eyetracking.keras import config as config_keras\n",
    "from smh_eyetracking.keras import losses\n",
    "from smh_eyetracking.utils import data_model"
   ]
  },
  {
   "cell_type": "markdown",
   "metadata": {},
   "source": [
    "## Load data"
   ]
  },
  {
   "cell_type": "code",
   "execution_count": 2,
   "metadata": {},
   "outputs": [],
   "source": [
    "data, imgs_left, imgs_right = data_model.load(\n",
    "    config_features02.PATH_DATA_FEATURES02_DLIB_AUGMENTED_NORM_CSV,\n",
    "    config_features02.PATH_DATA_FEATURES02_DLIB_AUGMENTED_NORM_IMGS_LEFT,\n",
    "    config_features02.PATH_DATA_FEATURES02_DLIB_AUGMENTED_NORM_IMGS_RIGHT\n",
    ")"
   ]
  },
  {
   "cell_type": "markdown",
   "metadata": {},
   "source": [
    "## Split data"
   ]
  },
  {
   "cell_type": "code",
   "execution_count": 3,
   "metadata": {},
   "outputs": [],
   "source": [
    "(\n",
    "    (train_data, train_imgs_left, train_imgs_right),\n",
    "    (validation_data, validation_imgs_left, validation_imgs_right),\n",
    "    (test_data, test_imgs_left, test_imgs_right)\n",
    ") = data_model.split(\n",
    "    data, imgs_left, imgs_right,\n",
    "    train_size=0.95,\n",
    "    validation_size=0.95,\n",
    "    random_state=42\n",
    ")"
   ]
  },
  {
   "cell_type": "code",
   "execution_count": 4,
   "metadata": {
    "scrolled": true
   },
   "outputs": [
    {
     "name": "stdout",
     "output_type": "stream",
     "text": [
      "Train length: 82118\n",
      "Validation length: 4322\n",
      "Test length: 4550\n"
     ]
    }
   ],
   "source": [
    "print(\"Train length: {}\".format(len(train_data)))\n",
    "print(\"Validation length: {}\".format(len(validation_data)))\n",
    "print(\"Test length: {}\".format(len(test_data)))"
   ]
  },
  {
   "cell_type": "markdown",
   "metadata": {},
   "source": [
    "## Model"
   ]
  },
  {
   "cell_type": "markdown",
   "metadata": {},
   "source": [
    "### Architecture"
   ]
  },
  {
   "cell_type": "markdown",
   "metadata": {},
   "source": [
    "![](img/models/02-baseline.png)"
   ]
  },
  {
   "cell_type": "code",
   "execution_count": 5,
   "metadata": {},
   "outputs": [],
   "source": [
    "img_width, img_height = config_features02.FEATURES02_EYES_SIZE\n",
    "img_shape = (img_height, img_width)\n",
    "\n",
    "def get_model():\n",
    "\n",
    "    # Inputs\n",
    "    left_imgs = keras.layers.Input(shape=img_shape, name='left_imgs', dtype='float32')\n",
    "    right_imgs = keras.layers.Input(shape=img_shape, name='right_imgs', dtype='float32')\n",
    "    features = keras.layers.Input(shape=(len(FEATURES),), name='features', dtype='float32')\n",
    "    # Flatten images & concatenate\n",
    "    flat_input = keras.layers.Concatenate()([\n",
    "        keras.layers.Flatten()(left_imgs),\n",
    "        keras.layers.Flatten()(right_imgs),\n",
    "        features\n",
    "    ])\n",
    "    # Dense\n",
    "    d_1 = keras.layers.Dense(1024, activation=keras.activations.relu)(flat_input)\n",
    "    d_2 = keras.layers.Dense(512, activation=keras.activations.relu)(d_1)\n",
    "    d_3 = keras.layers.Dense(128, activation=keras.activations.relu)(d_2)\n",
    "    d_4 = keras.layers.Dense(2)(d_3)\n",
    "    # Model\n",
    "    model = keras.models.Model(\n",
    "        inputs=[left_imgs, right_imgs, features],\n",
    "        outputs=[d_4]\n",
    "    )\n",
    "    return model"
   ]
  },
  {
   "cell_type": "markdown",
   "metadata": {},
   "source": [
    "### Parameters"
   ]
  },
  {
   "cell_type": "code",
   "execution_count": 9,
   "metadata": {},
   "outputs": [],
   "source": [
    "MODEL_NAME = '01_baseline-02'\n",
    "\n",
    "EPOCHS = 200\n",
    "BATCH_SIZE = 128\n",
    "LEARNING_RATE = 0.0005\n",
    "DECAY = 0.00001\n",
    "\n",
    "LOSS = losses.mean_euclidean"
   ]
  },
  {
   "cell_type": "code",
   "execution_count": 7,
   "metadata": {},
   "outputs": [
    {
     "name": "stdout",
     "output_type": "stream",
     "text": [
      "Parameters to adjust: 2246530\n"
     ]
    }
   ],
   "source": [
    "model = get_model()\n",
    "\n",
    "\n",
    "model.compile(\n",
    "    loss=LOSS,\n",
    "    metrics=[losses.mean_euclidean],\n",
    "    optimizer=keras.optimizers.Adam(lr=LEARNING_RATE, beta_1=0.9, beta_2=0.999, epsilon=1e-08, decay=DECAY)\n",
    ")\n",
    "\n",
    "print(\"Parameters to adjust: {}\".format(\n",
    "    np.sum([keras.backend.count_params(p) for p in set(model.trainable_weights)])\n",
    "))"
   ]
  },
  {
   "cell_type": "markdown",
   "metadata": {},
   "source": [
    "### Train"
   ]
  },
  {
   "cell_type": "code",
   "execution_count": 8,
   "metadata": {
    "scrolled": true
   },
   "outputs": [
    {
     "name": "stdout",
     "output_type": "stream",
     "text": [
      "Train on 82118 samples, validate on 4322 samples\n",
      "Epoch 1/200\n",
      "82118/82118 [==============================] - 38s - loss: 0.3363 - mean_euclidean: 0.3363 - val_loss: 0.2754 - val_mean_euclidean: 0.2754\n",
      "Epoch 2/200\n",
      "82118/82118 [==============================] - 39s - loss: 0.2431 - mean_euclidean: 0.2431 - val_loss: 0.2537 - val_mean_euclidean: 0.2537\n",
      "Epoch 3/200\n",
      "82118/82118 [==============================] - 37s - loss: 0.2117 - mean_euclidean: 0.2117 - val_loss: 0.2178 - val_mean_euclidean: 0.2178\n",
      "Epoch 4/200\n",
      "82118/82118 [==============================] - 37s - loss: 0.1922 - mean_euclidean: 0.1922 - val_loss: 0.2128 - val_mean_euclidean: 0.2128\n",
      "Epoch 5/200\n",
      "82118/82118 [==============================] - 37s - loss: 0.1765 - mean_euclidean: 0.1765 - val_loss: 0.2041 - val_mean_euclidean: 0.2041\n",
      "Epoch 6/200\n",
      "82118/82118 [==============================] - 37s - loss: 0.1639 - mean_euclidean: 0.1639 - val_loss: 0.1961 - val_mean_euclidean: 0.1961\n",
      "Epoch 7/200\n",
      "82118/82118 [==============================] - 37s - loss: 0.1542 - mean_euclidean: 0.1542 - val_loss: 0.1836 - val_mean_euclidean: 0.1836\n",
      "Epoch 8/200\n",
      "82118/82118 [==============================] - 37s - loss: 0.1453 - mean_euclidean: 0.1453 - val_loss: 0.1831 - val_mean_euclidean: 0.1831\n",
      "Epoch 9/200\n",
      "82118/82118 [==============================] - 37s - loss: 0.1379 - mean_euclidean: 0.1379 - val_loss: 0.1759 - val_mean_euclidean: 0.1759\n",
      "Epoch 10/200\n",
      "82118/82118 [==============================] - 37s - loss: 0.1308 - mean_euclidean: 0.1308 - val_loss: 0.1696 - val_mean_euclidean: 0.1696\n",
      "Epoch 11/200\n",
      "82118/82118 [==============================] - 37s - loss: 0.1245 - mean_euclidean: 0.1245 - val_loss: 0.1659 - val_mean_euclidean: 0.1659\n",
      "Epoch 12/200\n",
      "82118/82118 [==============================] - 37s - loss: 0.1187 - mean_euclidean: 0.1187 - val_loss: 0.1646 - val_mean_euclidean: 0.1646\n",
      "Epoch 13/200\n",
      "82118/82118 [==============================] - 37s - loss: 0.1139 - mean_euclidean: 0.1139 - val_loss: 0.1621 - val_mean_euclidean: 0.1621\n",
      "Epoch 14/200\n",
      "82118/82118 [==============================] - 37s - loss: 0.1096 - mean_euclidean: 0.1096 - val_loss: 0.1603 - val_mean_euclidean: 0.1603\n",
      "Epoch 15/200\n",
      "82118/82118 [==============================] - 37s - loss: 0.1060 - mean_euclidean: 0.1060 - val_loss: 0.1591 - val_mean_euclidean: 0.1591\n",
      "Epoch 16/200\n",
      "82118/82118 [==============================] - 37s - loss: 0.1009 - mean_euclidean: 0.1009 - val_loss: 0.1570 - val_mean_euclidean: 0.1570\n",
      "Epoch 17/200\n",
      "82118/82118 [==============================] - 37s - loss: 0.0981 - mean_euclidean: 0.0981 - val_loss: 0.1551 - val_mean_euclidean: 0.1551\n",
      "Epoch 18/200\n",
      "82118/82118 [==============================] - 37s - loss: 0.0946 - mean_euclidean: 0.0946 - val_loss: 0.1504 - val_mean_euclidean: 0.1504\n",
      "Epoch 19/200\n",
      "82118/82118 [==============================] - 37s - loss: 0.0913 - mean_euclidean: 0.0913 - val_loss: 0.1472 - val_mean_euclidean: 0.1472\n",
      "Epoch 20/200\n",
      "82118/82118 [==============================] - 37s - loss: 0.0883 - mean_euclidean: 0.0883 - val_loss: 0.1522 - val_mean_euclidean: 0.1522\n",
      "Epoch 21/200\n",
      "82118/82118 [==============================] - 37s - loss: 0.0863 - mean_euclidean: 0.0863 - val_loss: 0.1468 - val_mean_euclidean: 0.1468\n",
      "Epoch 22/200\n",
      "82118/82118 [==============================] - 37s - loss: 0.0837 - mean_euclidean: 0.0837 - val_loss: 0.1453 - val_mean_euclidean: 0.1453\n",
      "Epoch 23/200\n",
      "82118/82118 [==============================] - 37s - loss: 0.0810 - mean_euclidean: 0.0810 - val_loss: 0.1451 - val_mean_euclidean: 0.1451\n",
      "Epoch 24/200\n",
      "82118/82118 [==============================] - 37s - loss: 0.0786 - mean_euclidean: 0.0786 - val_loss: 0.1428 - val_mean_euclidean: 0.1428\n",
      "Epoch 25/200\n",
      "82118/82118 [==============================] - 37s - loss: 0.0766 - mean_euclidean: 0.0766 - val_loss: 0.1401 - val_mean_euclidean: 0.1401\n",
      "Epoch 26/200\n",
      "82118/82118 [==============================] - 37s - loss: 0.0748 - mean_euclidean: 0.0748 - val_loss: 0.1412 - val_mean_euclidean: 0.1412\n",
      "Epoch 27/200\n",
      "82118/82118 [==============================] - 37s - loss: 0.0733 - mean_euclidean: 0.0733 - val_loss: 0.1439 - val_mean_euclidean: 0.1439\n",
      "Epoch 28/200\n",
      "82118/82118 [==============================] - 37s - loss: 0.0721 - mean_euclidean: 0.0721 - val_loss: 0.1411 - val_mean_euclidean: 0.1411\n",
      "Epoch 29/200\n",
      "82118/82118 [==============================] - 37s - loss: 0.0691 - mean_euclidean: 0.0691 - val_loss: 0.1418 - val_mean_euclidean: 0.1418\n",
      "Epoch 30/200\n",
      "82118/82118 [==============================] - 37s - loss: 0.0685 - mean_euclidean: 0.0685 - val_loss: 0.1403 - val_mean_euclidean: 0.1403\n",
      "Epoch 31/200\n",
      "82118/82118 [==============================] - 38s - loss: 0.0664 - mean_euclidean: 0.0664 - val_loss: 0.1395 - val_mean_euclidean: 0.1395\n",
      "Epoch 32/200\n",
      "82118/82118 [==============================] - 37s - loss: 0.0653 - mean_euclidean: 0.0653 - val_loss: 0.1360 - val_mean_euclidean: 0.1360\n",
      "Epoch 33/200\n",
      "82118/82118 [==============================] - 37s - loss: 0.0638 - mean_euclidean: 0.0638 - val_loss: 0.1383 - val_mean_euclidean: 0.1383\n",
      "Epoch 34/200\n",
      "82118/82118 [==============================] - 37s - loss: 0.0627 - mean_euclidean: 0.0627 - val_loss: 0.1348 - val_mean_euclidean: 0.1348\n",
      "Epoch 35/200\n",
      "82118/82118 [==============================] - 37s - loss: 0.0612 - mean_euclidean: 0.0612 - val_loss: 0.1337 - val_mean_euclidean: 0.1337\n",
      "Epoch 36/200\n",
      "82118/82118 [==============================] - 37s - loss: 0.0598 - mean_euclidean: 0.0598 - val_loss: 0.1354 - val_mean_euclidean: 0.1354\n",
      "Epoch 37/200\n",
      "82118/82118 [==============================] - 37s - loss: 0.0594 - mean_euclidean: 0.0594 - val_loss: 0.1333 - val_mean_euclidean: 0.1333\n",
      "Epoch 38/200\n",
      "82118/82118 [==============================] - 37s - loss: 0.0582 - mean_euclidean: 0.0582 - val_loss: 0.1320 - val_mean_euclidean: 0.1320\n",
      "Epoch 39/200\n",
      "82118/82118 [==============================] - 37s - loss: 0.0566 - mean_euclidean: 0.0566 - val_loss: 0.1325 - val_mean_euclidean: 0.1325\n",
      "Epoch 40/200\n",
      "82118/82118 [==============================] - 38s - loss: 0.0557 - mean_euclidean: 0.0557 - val_loss: 0.1320 - val_mean_euclidean: 0.1320\n",
      "Epoch 41/200\n",
      "82118/82118 [==============================] - 37s - loss: 0.0553 - mean_euclidean: 0.0553 - val_loss: 0.1328 - val_mean_euclidean: 0.1328\n",
      "Epoch 42/200\n",
      "82118/82118 [==============================] - 38s - loss: 0.0543 - mean_euclidean: 0.0543 - val_loss: 0.1329 - val_mean_euclidean: 0.1329\n",
      "Epoch 43/200\n",
      "82118/82118 [==============================] - 37s - loss: 0.0534 - mean_euclidean: 0.0534 - val_loss: 0.1308 - val_mean_euclidean: 0.1308\n",
      "Epoch 44/200\n",
      "82118/82118 [==============================] - 37s - loss: 0.0522 - mean_euclidean: 0.0522 - val_loss: 0.1318 - val_mean_euclidean: 0.1318\n",
      "Epoch 45/200\n",
      "82118/82118 [==============================] - 38s - loss: 0.0518 - mean_euclidean: 0.0518 - val_loss: 0.1333 - val_mean_euclidean: 0.1333\n",
      "Epoch 46/200\n",
      "82118/82118 [==============================] - 38s - loss: 0.0509 - mean_euclidean: 0.0509 - val_loss: 0.1323 - val_mean_euclidean: 0.1323\n",
      "Epoch 47/200\n",
      "82118/82118 [==============================] - 38s - loss: 0.0503 - mean_euclidean: 0.0503 - val_loss: 0.1306 - val_mean_euclidean: 0.1306\n",
      "Epoch 48/200\n",
      "82118/82118 [==============================] - 38s - loss: 0.0489 - mean_euclidean: 0.0489 - val_loss: 0.1305 - val_mean_euclidean: 0.1305\n",
      "Epoch 49/200\n",
      "82118/82118 [==============================] - 38s - loss: 0.0488 - mean_euclidean: 0.0488 - val_loss: 0.1305 - val_mean_euclidean: 0.1305\n",
      "Epoch 50/200\n",
      "82118/82118 [==============================] - 38s - loss: 0.0476 - mean_euclidean: 0.0476 - val_loss: 0.1276 - val_mean_euclidean: 0.1276\n",
      "Epoch 51/200\n",
      "82118/82118 [==============================] - 38s - loss: 0.0472 - mean_euclidean: 0.0472 - val_loss: 0.1281 - val_mean_euclidean: 0.1281\n",
      "Epoch 52/200\n",
      "82118/82118 [==============================] - 38s - loss: 0.0465 - mean_euclidean: 0.0465 - val_loss: 0.1269 - val_mean_euclidean: 0.1269\n",
      "Epoch 53/200\n",
      "82118/82118 [==============================] - 38s - loss: 0.0457 - mean_euclidean: 0.0457 - val_loss: 0.1288 - val_mean_euclidean: 0.1288\n",
      "Epoch 54/200\n"
     ]
    },
    {
     "name": "stdout",
     "output_type": "stream",
     "text": [
      "82118/82118 [==============================] - 36s - loss: 0.0451 - mean_euclidean: 0.0451 - val_loss: 0.1275 - val_mean_euclidean: 0.1275\n",
      "Epoch 55/200\n",
      "82118/82118 [==============================] - 36s - loss: 0.0444 - mean_euclidean: 0.0444 - val_loss: 0.1298 - val_mean_euclidean: 0.1298\n",
      "Epoch 56/200\n",
      "82118/82118 [==============================] - 36s - loss: 0.0442 - mean_euclidean: 0.0442 - val_loss: 0.1259 - val_mean_euclidean: 0.1259\n",
      "Epoch 57/200\n",
      "82118/82118 [==============================] - 36s - loss: 0.0439 - mean_euclidean: 0.0439 - val_loss: 0.1279 - val_mean_euclidean: 0.1279\n",
      "Epoch 58/200\n",
      "82118/82118 [==============================] - 36s - loss: 0.0432 - mean_euclidean: 0.0432 - val_loss: 0.1290 - val_mean_euclidean: 0.1290\n",
      "Epoch 59/200\n",
      "82118/82118 [==============================] - 36s - loss: 0.0425 - mean_euclidean: 0.0425 - val_loss: 0.1259 - val_mean_euclidean: 0.1259\n",
      "Epoch 60/200\n",
      "82118/82118 [==============================] - 36s - loss: 0.0416 - mean_euclidean: 0.0416 - val_loss: 0.1266 - val_mean_euclidean: 0.1266\n",
      "Epoch 61/200\n",
      "82118/82118 [==============================] - 36s - loss: 0.0412 - mean_euclidean: 0.0412 - val_loss: 0.1274 - val_mean_euclidean: 0.1274\n",
      "Epoch 62/200\n",
      "82118/82118 [==============================] - 36s - loss: 0.0413 - mean_euclidean: 0.0413 - val_loss: 0.1257 - val_mean_euclidean: 0.1257\n",
      "Epoch 63/200\n",
      "82118/82118 [==============================] - 36s - loss: 0.0408 - mean_euclidean: 0.0408 - val_loss: 0.1251 - val_mean_euclidean: 0.1251\n",
      "Epoch 64/200\n",
      "82118/82118 [==============================] - 37s - loss: 0.0401 - mean_euclidean: 0.0401 - val_loss: 0.1256 - val_mean_euclidean: 0.1256\n",
      "Epoch 65/200\n",
      "82118/82118 [==============================] - 36s - loss: 0.0397 - mean_euclidean: 0.0397 - val_loss: 0.1248 - val_mean_euclidean: 0.1248\n",
      "Epoch 66/200\n",
      "82118/82118 [==============================] - 37s - loss: 0.0391 - mean_euclidean: 0.0391 - val_loss: 0.1247 - val_mean_euclidean: 0.1247\n",
      "Epoch 67/200\n",
      "82118/82118 [==============================] - 36s - loss: 0.0388 - mean_euclidean: 0.0388 - val_loss: 0.1267 - val_mean_euclidean: 0.1267\n",
      "Epoch 68/200\n",
      "82118/82118 [==============================] - 37s - loss: 0.0386 - mean_euclidean: 0.0386 - val_loss: 0.1250 - val_mean_euclidean: 0.1250\n",
      "Epoch 69/200\n",
      "82118/82118 [==============================] - 36s - loss: 0.0374 - mean_euclidean: 0.0374 - val_loss: 0.1244 - val_mean_euclidean: 0.1244\n",
      "Epoch 70/200\n",
      "82118/82118 [==============================] - 36s - loss: 0.0376 - mean_euclidean: 0.0376 - val_loss: 0.1250 - val_mean_euclidean: 0.1250\n",
      "Epoch 71/200\n",
      "82118/82118 [==============================] - 36s - loss: 0.0375 - mean_euclidean: 0.0375 - val_loss: 0.1247 - val_mean_euclidean: 0.1247\n",
      "Epoch 72/200\n",
      "82118/82118 [==============================] - 36s - loss: 0.0369 - mean_euclidean: 0.0369 - val_loss: 0.1260 - val_mean_euclidean: 0.1260\n",
      "Epoch 73/200\n",
      "82118/82118 [==============================] - 36s - loss: 0.0362 - mean_euclidean: 0.0362 - val_loss: 0.1238 - val_mean_euclidean: 0.1238\n",
      "Epoch 74/200\n",
      "82118/82118 [==============================] - 37s - loss: 0.0363 - mean_euclidean: 0.0363 - val_loss: 0.1257 - val_mean_euclidean: 0.1257\n",
      "Epoch 75/200\n",
      "82118/82118 [==============================] - 36s - loss: 0.0357 - mean_euclidean: 0.0357 - val_loss: 0.1266 - val_mean_euclidean: 0.1266\n",
      "Epoch 76/200\n",
      "82118/82118 [==============================] - 36s - loss: 0.0354 - mean_euclidean: 0.0354 - val_loss: 0.1239 - val_mean_euclidean: 0.1239\n",
      "Epoch 77/200\n",
      "82118/82118 [==============================] - 37s - loss: 0.0350 - mean_euclidean: 0.0350 - val_loss: 0.1232 - val_mean_euclidean: 0.1232\n",
      "Epoch 78/200\n",
      "82118/82118 [==============================] - 37s - loss: 0.0347 - mean_euclidean: 0.0347 - val_loss: 0.1237 - val_mean_euclidean: 0.1237\n",
      "Epoch 79/200\n",
      "82118/82118 [==============================] - 37s - loss: 0.0342 - mean_euclidean: 0.0342 - val_loss: 0.1241 - val_mean_euclidean: 0.1241\n",
      "Epoch 80/200\n",
      "82118/82118 [==============================] - 37s - loss: 0.0340 - mean_euclidean: 0.0340 - val_loss: 0.1251 - val_mean_euclidean: 0.1251\n",
      "Epoch 81/200\n",
      "82118/82118 [==============================] - 37s - loss: 0.0339 - mean_euclidean: 0.0339 - val_loss: 0.1246 - val_mean_euclidean: 0.1246\n",
      "Epoch 82/200\n",
      "82118/82118 [==============================] - 37s - loss: 0.0335 - mean_euclidean: 0.0335 - val_loss: 0.1238 - val_mean_euclidean: 0.1238\n",
      "Epoch 83/200\n",
      "82118/82118 [==============================] - 37s - loss: 0.0333 - mean_euclidean: 0.0333 - val_loss: 0.1230 - val_mean_euclidean: 0.1230\n",
      "Epoch 84/200\n",
      "82118/82118 [==============================] - 37s - loss: 0.0328 - mean_euclidean: 0.0328 - val_loss: 0.1225 - val_mean_euclidean: 0.1225\n",
      "Epoch 85/200\n",
      "82118/82118 [==============================] - 37s - loss: 0.0324 - mean_euclidean: 0.0324 - val_loss: 0.1225 - val_mean_euclidean: 0.1225\n",
      "Epoch 86/200\n",
      "82118/82118 [==============================] - 37s - loss: 0.0323 - mean_euclidean: 0.0323 - val_loss: 0.1232 - val_mean_euclidean: 0.1232\n",
      "Epoch 87/200\n",
      "82118/82118 [==============================] - 37s - loss: 0.0323 - mean_euclidean: 0.0323 - val_loss: 0.1226 - val_mean_euclidean: 0.1226\n",
      "Epoch 88/200\n",
      "82118/82118 [==============================] - 37s - loss: 0.0321 - mean_euclidean: 0.0321 - val_loss: 0.1229 - val_mean_euclidean: 0.1229\n",
      "Epoch 89/200\n",
      "82118/82118 [==============================] - 37s - loss: 0.0315 - mean_euclidean: 0.0315 - val_loss: 0.1224 - val_mean_euclidean: 0.1224\n",
      "Epoch 90/200\n",
      "82118/82118 [==============================] - 37s - loss: 0.0311 - mean_euclidean: 0.0311 - val_loss: 0.1230 - val_mean_euclidean: 0.1230\n",
      "Epoch 91/200\n",
      "82118/82118 [==============================] - 37s - loss: 0.0310 - mean_euclidean: 0.0310 - val_loss: 0.1222 - val_mean_euclidean: 0.1222\n",
      "Epoch 92/200\n",
      "82118/82118 [==============================] - 37s - loss: 0.0307 - mean_euclidean: 0.0307 - val_loss: 0.1231 - val_mean_euclidean: 0.1231\n",
      "Epoch 93/200\n",
      "82118/82118 [==============================] - 37s - loss: 0.0306 - mean_euclidean: 0.0306 - val_loss: 0.1219 - val_mean_euclidean: 0.1219\n",
      "Epoch 94/200\n",
      "82118/82118 [==============================] - 37s - loss: 0.0302 - mean_euclidean: 0.0302 - val_loss: 0.1220 - val_mean_euclidean: 0.1220\n",
      "Epoch 95/200\n",
      "82118/82118 [==============================] - 37s - loss: 0.0301 - mean_euclidean: 0.0301 - val_loss: 0.1222 - val_mean_euclidean: 0.1222\n",
      "Epoch 96/200\n",
      "82118/82118 [==============================] - 37s - loss: 0.0294 - mean_euclidean: 0.0294 - val_loss: 0.1231 - val_mean_euclidean: 0.1231\n",
      "Epoch 97/200\n",
      "82118/82118 [==============================] - 37s - loss: 0.0299 - mean_euclidean: 0.0299 - val_loss: 0.1213 - val_mean_euclidean: 0.1213\n",
      "Epoch 98/200\n",
      "82118/82118 [==============================] - 37s - loss: 0.0294 - mean_euclidean: 0.0294 - val_loss: 0.1226 - val_mean_euclidean: 0.1226\n",
      "Epoch 99/200\n",
      "82118/82118 [==============================] - 37s - loss: 0.0290 - mean_euclidean: 0.0290 - val_loss: 0.1235 - val_mean_euclidean: 0.1235\n",
      "Epoch 100/200\n",
      "82118/82118 [==============================] - 37s - loss: 0.0288 - mean_euclidean: 0.0288 - val_loss: 0.1226 - val_mean_euclidean: 0.1226\n",
      "Epoch 101/200\n",
      "82118/82118 [==============================] - 37s - loss: 0.0282 - mean_euclidean: 0.0282 - val_loss: 0.1217 - val_mean_euclidean: 0.1217\n",
      "Epoch 102/200\n",
      "82118/82118 [==============================] - 37s - loss: 0.0287 - mean_euclidean: 0.0287 - val_loss: 0.1210 - val_mean_euclidean: 0.1210\n",
      "Epoch 103/200\n",
      "82118/82118 [==============================] - 37s - loss: 0.0282 - mean_euclidean: 0.0282 - val_loss: 0.1205 - val_mean_euclidean: 0.1205\n",
      "Epoch 104/200\n",
      "82118/82118 [==============================] - 37s - loss: 0.0282 - mean_euclidean: 0.0282 - val_loss: 0.1227 - val_mean_euclidean: 0.1227\n",
      "Epoch 105/200\n",
      "82118/82118 [==============================] - 37s - loss: 0.0276 - mean_euclidean: 0.0276 - val_loss: 0.1205 - val_mean_euclidean: 0.1205\n",
      "Epoch 106/200\n",
      "82118/82118 [==============================] - 37s - loss: 0.0275 - mean_euclidean: 0.0275 - val_loss: 0.1207 - val_mean_euclidean: 0.1207\n",
      "Epoch 107/200\n"
     ]
    },
    {
     "name": "stdout",
     "output_type": "stream",
     "text": [
      "82118/82118 [==============================] - 37s - loss: 0.0274 - mean_euclidean: 0.0274 - val_loss: 0.1207 - val_mean_euclidean: 0.1207\n",
      "Epoch 108/200\n",
      "82118/82118 [==============================] - 36s - loss: 0.0272 - mean_euclidean: 0.0272 - val_loss: 0.1219 - val_mean_euclidean: 0.1219\n",
      "Epoch 109/200\n",
      "82118/82118 [==============================] - 36s - loss: 0.0272 - mean_euclidean: 0.0272 - val_loss: 0.1213 - val_mean_euclidean: 0.1213\n",
      "Epoch 110/200\n",
      "82118/82118 [==============================] - 36s - loss: 0.0270 - mean_euclidean: 0.0270 - val_loss: 0.1206 - val_mean_euclidean: 0.1206\n",
      "Epoch 111/200\n",
      "82118/82118 [==============================] - 36s - loss: 0.0267 - mean_euclidean: 0.0267 - val_loss: 0.1208 - val_mean_euclidean: 0.1208\n",
      "Epoch 112/200\n",
      "82118/82118 [==============================] - 36s - loss: 0.0268 - mean_euclidean: 0.0268 - val_loss: 0.1207 - val_mean_euclidean: 0.1207\n",
      "Epoch 113/200\n",
      "82118/82118 [==============================] - 36s - loss: 0.0263 - mean_euclidean: 0.0263 - val_loss: 0.1203 - val_mean_euclidean: 0.1203\n",
      "Epoch 114/200\n",
      "82118/82118 [==============================] - 36s - loss: 0.0263 - mean_euclidean: 0.0263 - val_loss: 0.1210 - val_mean_euclidean: 0.1210\n",
      "Epoch 115/200\n",
      "82118/82118 [==============================] - 36s - loss: 0.0258 - mean_euclidean: 0.0258 - val_loss: 0.1205 - val_mean_euclidean: 0.1205\n",
      "Epoch 116/200\n",
      "82118/82118 [==============================] - 36s - loss: 0.0258 - mean_euclidean: 0.0258 - val_loss: 0.1208 - val_mean_euclidean: 0.1208\n",
      "Epoch 117/200\n",
      "82118/82118 [==============================] - 36s - loss: 0.0259 - mean_euclidean: 0.0259 - val_loss: 0.1207 - val_mean_euclidean: 0.1207\n",
      "Epoch 118/200\n",
      "82118/82118 [==============================] - 36s - loss: 0.0253 - mean_euclidean: 0.0253 - val_loss: 0.1210 - val_mean_euclidean: 0.1210\n",
      "Epoch 119/200\n",
      "82118/82118 [==============================] - 36s - loss: 0.0254 - mean_euclidean: 0.0254 - val_loss: 0.1208 - val_mean_euclidean: 0.1208\n",
      "Epoch 120/200\n",
      "82118/82118 [==============================] - 36s - loss: 0.0251 - mean_euclidean: 0.0251 - val_loss: 0.1210 - val_mean_euclidean: 0.1210\n",
      "Epoch 121/200\n",
      "82118/82118 [==============================] - 36s - loss: 0.0251 - mean_euclidean: 0.0251 - val_loss: 0.1205 - val_mean_euclidean: 0.1205\n",
      "Epoch 122/200\n",
      "82118/82118 [==============================] - 36s - loss: 0.0249 - mean_euclidean: 0.0249 - val_loss: 0.1200 - val_mean_euclidean: 0.1200\n",
      "Epoch 123/200\n",
      "82118/82118 [==============================] - 36s - loss: 0.0246 - mean_euclidean: 0.0246 - val_loss: 0.1198 - val_mean_euclidean: 0.1198\n",
      "Epoch 124/200\n",
      "82118/82118 [==============================] - 36s - loss: 0.0246 - mean_euclidean: 0.0246 - val_loss: 0.1203 - val_mean_euclidean: 0.1203\n",
      "Epoch 125/200\n",
      "82118/82118 [==============================] - 36s - loss: 0.0246 - mean_euclidean: 0.0246 - val_loss: 0.1199 - val_mean_euclidean: 0.1199\n",
      "Epoch 126/200\n",
      "82118/82118 [==============================] - 36s - loss: 0.0244 - mean_euclidean: 0.0244 - val_loss: 0.1202 - val_mean_euclidean: 0.1202\n",
      "Epoch 127/200\n",
      "82118/82118 [==============================] - 36s - loss: 0.0238 - mean_euclidean: 0.0238 - val_loss: 0.1208 - val_mean_euclidean: 0.1208\n",
      "Epoch 128/200\n",
      "82118/82118 [==============================] - 36s - loss: 0.0240 - mean_euclidean: 0.0240 - val_loss: 0.1205 - val_mean_euclidean: 0.1205\n",
      "Epoch 129/200\n",
      "82118/82118 [==============================] - 36s - loss: 0.0238 - mean_euclidean: 0.0238 - val_loss: 0.1209 - val_mean_euclidean: 0.1209\n",
      "Epoch 130/200\n",
      "82118/82118 [==============================] - 37s - loss: 0.0238 - mean_euclidean: 0.0238 - val_loss: 0.1199 - val_mean_euclidean: 0.1199\n",
      "Epoch 131/200\n",
      "82118/82118 [==============================] - 37s - loss: 0.0233 - mean_euclidean: 0.0233 - val_loss: 0.1203 - val_mean_euclidean: 0.1203\n",
      "Epoch 132/200\n",
      "82118/82118 [==============================] - 37s - loss: 0.0234 - mean_euclidean: 0.0234 - val_loss: 0.1195 - val_mean_euclidean: 0.1195\n",
      "Epoch 133/200\n",
      "82118/82118 [==============================] - 36s - loss: 0.0232 - mean_euclidean: 0.0232 - val_loss: 0.1202 - val_mean_euclidean: 0.1202\n",
      "Epoch 134/200\n",
      "82118/82118 [==============================] - 36s - loss: 0.0233 - mean_euclidean: 0.0233 - val_loss: 0.1204 - val_mean_euclidean: 0.1204\n",
      "Epoch 135/200\n",
      "82118/82118 [==============================] - 36s - loss: 0.0228 - mean_euclidean: 0.0228 - val_loss: 0.1194 - val_mean_euclidean: 0.1194\n",
      "Epoch 136/200\n",
      "82118/82118 [==============================] - 37s - loss: 0.0228 - mean_euclidean: 0.0228 - val_loss: 0.1198 - val_mean_euclidean: 0.1198\n",
      "Epoch 137/200\n",
      "82118/82118 [==============================] - 37s - loss: 0.0228 - mean_euclidean: 0.0228 - val_loss: 0.1197 - val_mean_euclidean: 0.1197\n",
      "Epoch 138/200\n",
      "82118/82118 [==============================] - 37s - loss: 0.0229 - mean_euclidean: 0.0229 - val_loss: 0.1197 - val_mean_euclidean: 0.1197\n",
      "Epoch 139/200\n",
      "82118/82118 [==============================] - 37s - loss: 0.0225 - mean_euclidean: 0.0225 - val_loss: 0.1189 - val_mean_euclidean: 0.1189\n",
      "Epoch 140/200\n",
      "82118/82118 [==============================] - 37s - loss: 0.0224 - mean_euclidean: 0.0224 - val_loss: 0.1201 - val_mean_euclidean: 0.1201\n",
      "Epoch 141/200\n",
      "82118/82118 [==============================] - 37s - loss: 0.0219 - mean_euclidean: 0.0219 - val_loss: 0.1201 - val_mean_euclidean: 0.1201\n",
      "Epoch 142/200\n",
      "82118/82118 [==============================] - 37s - loss: 0.0221 - mean_euclidean: 0.0221 - val_loss: 0.1195 - val_mean_euclidean: 0.1195\n",
      "Epoch 143/200\n",
      "82118/82118 [==============================] - 37s - loss: 0.0221 - mean_euclidean: 0.0221 - val_loss: 0.1195 - val_mean_euclidean: 0.1195\n",
      "Epoch 144/200\n",
      "82118/82118 [==============================] - 37s - loss: 0.0217 - mean_euclidean: 0.0217 - val_loss: 0.1189 - val_mean_euclidean: 0.1189\n",
      "Epoch 145/200\n",
      "82118/82118 [==============================] - 37s - loss: 0.0216 - mean_euclidean: 0.0216 - val_loss: 0.1185 - val_mean_euclidean: 0.1185\n",
      "Epoch 146/200\n",
      "82118/82118 [==============================] - 37s - loss: 0.0217 - mean_euclidean: 0.0217 - val_loss: 0.1191 - val_mean_euclidean: 0.1191\n",
      "Epoch 147/200\n",
      "82118/82118 [==============================] - 37s - loss: 0.0217 - mean_euclidean: 0.0217 - val_loss: 0.1196 - val_mean_euclidean: 0.1196\n",
      "Epoch 148/200\n",
      "82118/82118 [==============================] - 37s - loss: 0.0212 - mean_euclidean: 0.0212 - val_loss: 0.1190 - val_mean_euclidean: 0.1190\n",
      "Epoch 149/200\n",
      "82118/82118 [==============================] - 37s - loss: 0.0212 - mean_euclidean: 0.0212 - val_loss: 0.1199 - val_mean_euclidean: 0.1199\n",
      "Epoch 150/200\n",
      "82118/82118 [==============================] - 37s - loss: 0.0214 - mean_euclidean: 0.0214 - val_loss: 0.1197 - val_mean_euclidean: 0.1197\n",
      "Epoch 151/200\n",
      "82118/82118 [==============================] - 37s - loss: 0.0212 - mean_euclidean: 0.0212 - val_loss: 0.1189 - val_mean_euclidean: 0.1189\n",
      "Epoch 152/200\n",
      "82118/82118 [==============================] - 37s - loss: 0.0211 - mean_euclidean: 0.0211 - val_loss: 0.1188 - val_mean_euclidean: 0.1188\n",
      "Epoch 153/200\n",
      "82118/82118 [==============================] - 37s - loss: 0.0208 - mean_euclidean: 0.0208 - val_loss: 0.1185 - val_mean_euclidean: 0.1185\n",
      "Epoch 154/200\n",
      "82118/82118 [==============================] - 37s - loss: 0.0205 - mean_euclidean: 0.0205 - val_loss: 0.1200 - val_mean_euclidean: 0.1200\n",
      "Epoch 155/200\n",
      "82118/82118 [==============================] - 37s - loss: 0.0206 - mean_euclidean: 0.0206 - val_loss: 0.1195 - val_mean_euclidean: 0.1195\n",
      "Epoch 156/200\n",
      "82118/82118 [==============================] - 37s - loss: 0.0206 - mean_euclidean: 0.0206 - val_loss: 0.1192 - val_mean_euclidean: 0.1192\n",
      "Epoch 157/200\n",
      "82118/82118 [==============================] - 37s - loss: 0.0203 - mean_euclidean: 0.0203 - val_loss: 0.1188 - val_mean_euclidean: 0.1188\n",
      "Epoch 158/200\n",
      "82118/82118 [==============================] - 37s - loss: 0.0204 - mean_euclidean: 0.0204 - val_loss: 0.1189 - val_mean_euclidean: 0.1189\n",
      "Epoch 159/200\n",
      "82118/82118 [==============================] - 37s - loss: 0.0202 - mean_euclidean: 0.0202 - val_loss: 0.1196 - val_mean_euclidean: 0.1196\n",
      "Epoch 160/200\n"
     ]
    },
    {
     "name": "stdout",
     "output_type": "stream",
     "text": [
      "82118/82118 [==============================] - 36s - loss: 0.0201 - mean_euclidean: 0.0201 - val_loss: 0.1187 - val_mean_euclidean: 0.1187\n",
      "Epoch 161/200\n",
      "82118/82118 [==============================] - 36s - loss: 0.0200 - mean_euclidean: 0.0200 - val_loss: 0.1184 - val_mean_euclidean: 0.1184\n",
      "Epoch 162/200\n",
      "82118/82118 [==============================] - 36s - loss: 0.0200 - mean_euclidean: 0.0200 - val_loss: 0.1188 - val_mean_euclidean: 0.1188\n",
      "Epoch 163/200\n",
      "82118/82118 [==============================] - 36s - loss: 0.0200 - mean_euclidean: 0.0200 - val_loss: 0.1190 - val_mean_euclidean: 0.1190\n",
      "Epoch 164/200\n",
      "82118/82118 [==============================] - 36s - loss: 0.0196 - mean_euclidean: 0.0196 - val_loss: 0.1186 - val_mean_euclidean: 0.1186\n",
      "Epoch 165/200\n",
      "82118/82118 [==============================] - 36s - loss: 0.0198 - mean_euclidean: 0.0198 - val_loss: 0.1191 - val_mean_euclidean: 0.1191\n",
      "Epoch 166/200\n",
      "82118/82118 [==============================] - 36s - loss: 0.0195 - mean_euclidean: 0.0195 - val_loss: 0.1188 - val_mean_euclidean: 0.1188\n",
      "Epoch 167/200\n",
      "82118/82118 [==============================] - 36s - loss: 0.0195 - mean_euclidean: 0.0195 - val_loss: 0.1191 - val_mean_euclidean: 0.1191\n",
      "Epoch 168/200\n",
      "82118/82118 [==============================] - 36s - loss: 0.0195 - mean_euclidean: 0.0195 - val_loss: 0.1188 - val_mean_euclidean: 0.1188\n",
      "Epoch 169/200\n",
      "82118/82118 [==============================] - 36s - loss: 0.0194 - mean_euclidean: 0.0194 - val_loss: 0.1188 - val_mean_euclidean: 0.1188\n",
      "Epoch 170/200\n",
      "82118/82118 [==============================] - 36s - loss: 0.0190 - mean_euclidean: 0.0190 - val_loss: 0.1185 - val_mean_euclidean: 0.1185\n",
      "Epoch 171/200\n",
      "82118/82118 [==============================] - 36s - loss: 0.0190 - mean_euclidean: 0.0190 - val_loss: 0.1187 - val_mean_euclidean: 0.1187\n",
      "Epoch 172/200\n",
      "82118/82118 [==============================] - 36s - loss: 0.0191 - mean_euclidean: 0.0191 - val_loss: 0.1192 - val_mean_euclidean: 0.1192\n",
      "Epoch 173/200\n",
      "82118/82118 [==============================] - 36s - loss: 0.0189 - mean_euclidean: 0.0189 - val_loss: 0.1186 - val_mean_euclidean: 0.1186\n",
      "Epoch 174/200\n",
      "82118/82118 [==============================] - 36s - loss: 0.0190 - mean_euclidean: 0.0190 - val_loss: 0.1187 - val_mean_euclidean: 0.1187\n",
      "Epoch 175/200\n",
      "82118/82118 [==============================] - 36s - loss: 0.0187 - mean_euclidean: 0.0187 - val_loss: 0.1185 - val_mean_euclidean: 0.1185\n",
      "Epoch 176/200\n",
      "82118/82118 [==============================] - 36s - loss: 0.0186 - mean_euclidean: 0.0186 - val_loss: 0.1182 - val_mean_euclidean: 0.1182\n",
      "Epoch 177/200\n",
      "82118/82118 [==============================] - 37s - loss: 0.0186 - mean_euclidean: 0.0186 - val_loss: 0.1184 - val_mean_euclidean: 0.1184\n",
      "Epoch 178/200\n",
      "82118/82118 [==============================] - 36s - loss: 0.0186 - mean_euclidean: 0.0186 - val_loss: 0.1187 - val_mean_euclidean: 0.1187\n",
      "Epoch 179/200\n",
      "82118/82118 [==============================] - 36s - loss: 0.0184 - mean_euclidean: 0.0184 - val_loss: 0.1185 - val_mean_euclidean: 0.1185\n",
      "Epoch 180/200\n",
      "82118/82118 [==============================] - 36s - loss: 0.0181 - mean_euclidean: 0.0181 - val_loss: 0.1189 - val_mean_euclidean: 0.1189\n",
      "Epoch 181/200\n",
      "82118/82118 [==============================] - 37s - loss: 0.0183 - mean_euclidean: 0.0183 - val_loss: 0.1186 - val_mean_euclidean: 0.1186\n",
      "Epoch 182/200\n",
      "82118/82118 [==============================] - 36s - loss: 0.0182 - mean_euclidean: 0.0182 - val_loss: 0.1189 - val_mean_euclidean: 0.1189\n",
      "Epoch 183/200\n",
      "82118/82118 [==============================] - 36s - loss: 0.0182 - mean_euclidean: 0.0182 - val_loss: 0.1184 - val_mean_euclidean: 0.1184\n",
      "Epoch 184/200\n",
      "82118/82118 [==============================] - 36s - loss: 0.0180 - mean_euclidean: 0.0180 - val_loss: 0.1183 - val_mean_euclidean: 0.1183\n",
      "Epoch 185/200\n",
      "82118/82118 [==============================] - 36s - loss: 0.0179 - mean_euclidean: 0.0179 - val_loss: 0.1186 - val_mean_euclidean: 0.1186\n",
      "Epoch 186/200\n",
      "82118/82118 [==============================] - 37s - loss: 0.0177 - mean_euclidean: 0.0177 - val_loss: 0.1183 - val_mean_euclidean: 0.1183\n",
      "Epoch 187/200\n",
      "82118/82118 [==============================] - 37s - loss: 0.0180 - mean_euclidean: 0.0180 - val_loss: 0.1180 - val_mean_euclidean: 0.1180\n",
      "Epoch 188/200\n",
      "82118/82118 [==============================] - 37s - loss: 0.0178 - mean_euclidean: 0.0178 - val_loss: 0.1182 - val_mean_euclidean: 0.1182\n",
      "Epoch 189/200\n",
      "82118/82118 [==============================] - 37s - loss: 0.0176 - mean_euclidean: 0.0176 - val_loss: 0.1179 - val_mean_euclidean: 0.1179\n",
      "Epoch 190/200\n",
      "82118/82118 [==============================] - 37s - loss: 0.0175 - mean_euclidean: 0.0175 - val_loss: 0.1183 - val_mean_euclidean: 0.1183\n",
      "Epoch 191/200\n",
      "82118/82118 [==============================] - 37s - loss: 0.0177 - mean_euclidean: 0.0177 - val_loss: 0.1193 - val_mean_euclidean: 0.1193\n",
      "Epoch 192/200\n",
      "82118/82118 [==============================] - 37s - loss: 0.0176 - mean_euclidean: 0.0176 - val_loss: 0.1177 - val_mean_euclidean: 0.1177\n",
      "Epoch 193/200\n",
      "82118/82118 [==============================] - 37s - loss: 0.0172 - mean_euclidean: 0.0172 - val_loss: 0.1182 - val_mean_euclidean: 0.1182\n",
      "Epoch 194/200\n",
      "82118/82118 [==============================] - 37s - loss: 0.0174 - mean_euclidean: 0.0174 - val_loss: 0.1180 - val_mean_euclidean: 0.1180\n",
      "Epoch 195/200\n",
      "82118/82118 [==============================] - 37s - loss: 0.0172 - mean_euclidean: 0.0172 - val_loss: 0.1183 - val_mean_euclidean: 0.1183\n",
      "Epoch 196/200\n",
      "82118/82118 [==============================] - 37s - loss: 0.0173 - mean_euclidean: 0.0173 - val_loss: 0.1183 - val_mean_euclidean: 0.1183\n",
      "Epoch 197/200\n",
      "82118/82118 [==============================] - 37s - loss: 0.0170 - mean_euclidean: 0.0170 - val_loss: 0.1183 - val_mean_euclidean: 0.1183\n",
      "Epoch 198/200\n",
      "82118/82118 [==============================] - 37s - loss: 0.0168 - mean_euclidean: 0.0168 - val_loss: 0.1182 - val_mean_euclidean: 0.1182\n",
      "Epoch 199/200\n",
      "82118/82118 [==============================] - 37s - loss: 0.0168 - mean_euclidean: 0.0168 - val_loss: 0.1179 - val_mean_euclidean: 0.1179\n",
      "Epoch 200/200\n",
      "82118/82118 [==============================] - 37s - loss: 0.0168 - mean_euclidean: 0.0168 - val_loss: 0.1181 - val_mean_euclidean: 0.1181\n"
     ]
    },
    {
     "data": {
      "text/plain": [
       "<tensorflow.contrib.keras.python.keras.callbacks.History at 0x7f9d33b64438>"
      ]
     },
     "execution_count": 8,
     "metadata": {},
     "output_type": "execute_result"
    }
   ],
   "source": [
    "model.fit(\n",
    "    x={\n",
    "        'left_imgs':train_imgs_left,\n",
    "        'right_imgs': train_imgs_right,\n",
    "        'features': train_data[FEATURES].as_matrix()\n",
    "    },\n",
    "    y=train_data[TARGETS].as_matrix(),\n",
    "    validation_data=(\n",
    "        {\n",
    "            'left_imgs': validation_imgs_left,\n",
    "            'right_imgs': validation_imgs_right,\n",
    "            'features': validation_data[FEATURES].as_matrix()\n",
    "        },\n",
    "        validation_data[TARGETS].as_matrix()\n",
    "    ),\n",
    "    epochs=EPOCHS,\n",
    "    batch_size=BATCH_SIZE,\n",
    "    verbose=1, callbacks=None, shuffle=True, class_weight=None, sample_weight=None, initial_epoch=0\n",
    ")"
   ]
  },
  {
   "cell_type": "code",
   "execution_count": 10,
   "metadata": {},
   "outputs": [],
   "source": [
    "model.save(config_keras.PATH_MODELS_KERAS+MODEL_NAME)"
   ]
  },
  {
   "cell_type": "markdown",
   "metadata": {},
   "source": [
    "### Test"
   ]
  },
  {
   "cell_type": "code",
   "execution_count": 11,
   "metadata": {},
   "outputs": [],
   "source": [
    "model_test = keras.models.load_model(\n",
    "    filepath=config_keras.PATH_MODELS_KERAS+MODEL_NAME,\n",
    "    custom_objects={\n",
    "        \"mean_euclidean\": losses.mean_euclidean,\n",
    "        \"ms_euclidean\": losses.ms_euclidean,\n",
    "        \"reg_mean_euclidean\": losses.reg_mean_euclidean\n",
    "    }\n",
    ")"
   ]
  },
  {
   "cell_type": "code",
   "execution_count": 12,
   "metadata": {
    "scrolled": true
   },
   "outputs": [
    {
     "name": "stdout",
     "output_type": "stream",
     "text": [
      "4510/4550 [============================>.] - ETA: 0s"
     ]
    },
    {
     "data": {
      "text/plain": [
       "[0.11771296284609259, 0.11771296284609259]"
      ]
     },
     "execution_count": 12,
     "metadata": {},
     "output_type": "execute_result"
    }
   ],
   "source": [
    "model_test.evaluate(\n",
    "    x={\n",
    "        'left_imgs':test_imgs_left,\n",
    "        'right_imgs': test_imgs_right,\n",
    "        'features': test_data[FEATURES].as_matrix()\n",
    "    },\n",
    "    y=test_data[TARGETS].as_matrix(),\n",
    "    batch_size=1,\n",
    "    verbose=1, sample_weight=None\n",
    ")"
   ]
  },
  {
   "cell_type": "markdown",
   "metadata": {},
   "source": [
    "### Results\n",
    "\n",
    "\n",
    "| Name | Epochs | Batch Size | Learning rate | Decay | Loss | Train | Validation | Test |\n",
    "|:--:|:--:|:--:|:--:|:--:|:--:|:--:|:--:|:--:|\n",
    "| 01_baseline-01 | 50 | 128| 0.0005 | 0.00001 | mean_euclidean | 0.0486 | 0.1338 | 0.1332 |\n",
    "| 01_baseline-02 | 200 | 128| 0.0005 | 0.00001 | mean_euclidean | 0.0168 |  0.1181 | 0.1177 |\n",
    "\n",
    "157 epochs seem to be enough"
   ]
  },
  {
   "cell_type": "raw",
   "metadata": {},
   "source": [
    "### Results\n",
    "\n",
    "Corrected dataset and augmented (5 transformations)\n",
    "\n",
    "\n",
    "| Name | Epochs | Batch Size | Learning rate | Decay | Loss | Train | Validation | Test |\n",
    "|:--:|:--:|:--:|:--:|:--:|:--:|:--:|:--:|:--:|\n",
    "| f025baseline-01 | 150 | 128| 0.0005 | 0.00001 | mean_euclidean |  0.0209 | 0.1184 | 0.1201 |\n",
    "| f025baseline-02 | 200 | 128| 0.0005 | 0.00001 | mean_euclidean |  0.0164 | 0.1176 | 0.1194 |"
   ]
  },
  {
   "cell_type": "raw",
   "metadata": {},
   "source": [
    "### Results\n",
    "\n",
    "Corrected dataset and augmented (3 transformations)\n",
    "\n",
    "\n",
    "| Name | Epochs | Batch Size | Learning rate | Decay | Loss | Train | Validation | Test |\n",
    "|:--:|:--:|:--:|:--:|:--:|:--:|:--:|:--:|:--:|\n",
    "| baseline-08a2 | 150 | 128| 0.0005 | 0.00001 | mean_euclidean | 0.0306 | 0.1286 | 0.1245 |\n",
    "| f02_baseline-09 | 150 | 128| 0.0005 | 0.00001 | mean_euclidean | 0.0384 | 0.1205 | 0.1182 |\n",
    "| f02_baseline-10 | 150 | 128| 0.0005 | 0.00001 | ms_euclidean | 0.0016 | 0.0234 | 0.02287 |\n",
    "| f02_baseline-13 | 150 | 128| 0.0005 | 0.00001 | mean_euclidean | 0.0381 | 0.1197 | 0.1199 |\n",
    "| f02_baseline-14 | 150 | 128| 0.0005 | 0.00001 | ms_euclidean | 0.0355 | 0.1176 |  |\n",
    "| f02_baseline-15 | 150 | 128| 0.0005 | 0.00001 | reg_mean_euclidean | 0.0425 | 0.1214 | 0.12201 |\n",
    "| f02_baseline-16 | 400 | 128| 0.0001 | 0.00001 | reg_mean_euclidean | 0.0215 | 0.1279 | 0.1287 |\n",
    "| f02_baseline-18x | 300 | 128| 0.0005 | 0.00001 | mean_euclidean | 0.0236 | 0.1123 | 0.1116 |"
   ]
  },
  {
   "cell_type": "markdown",
   "metadata": {},
   "source": [
    "### Errors"
   ]
  },
  {
   "cell_type": "code",
   "execution_count": null,
   "metadata": {},
   "outputs": [],
   "source": [
    "import seaborn as sns\n",
    "%matplotlib inline\n"
   ]
  },
  {
   "cell_type": "markdown",
   "metadata": {},
   "source": [
    "#### Test"
   ]
  },
  {
   "cell_type": "code",
   "execution_count": 44,
   "metadata": {
    "scrolled": false
   },
   "outputs": [],
   "source": [
    "test_predictions = model_test.predict(\n",
    "    x={\n",
    "        'left_imgs':test_imgs_left,\n",
    "        'right_imgs': test_imgs_right,\n",
    "        'features': test_data[FEATURES].as_matrix()\n",
    "    }\n",
    ")"
   ]
  },
  {
   "cell_type": "code",
   "execution_count": 45,
   "metadata": {},
   "outputs": [
    {
     "data": {
      "text/plain": [
       "<seaborn.axisgrid.JointGrid at 0x7f9ce466f8d0>"
      ]
     },
     "execution_count": 45,
     "metadata": {},
     "output_type": "execute_result"
    },
    {
     "data": {
      "image/png": "[encoded data removed]",
      "text/plain": [
       "<matplotlib.figure.Figure at 0x7f9ce466f898>"
      ]
     },
     "metadata": {},
     "output_type": "display_data"
    }
   ],
   "source": [
    "test_errors = test_data[TARGETS].as_matrix()-test_predictions\n",
    "sns.jointplot(x=test_errors[:,0], y=test_errors[:,1], kind=\"kde\")"
   ]
  },
  {
   "cell_type": "code",
   "execution_count": 46,
   "metadata": {
    "scrolled": true
   },
   "outputs": [
    {
     "data": {
      "text/plain": [
       "<matplotlib.axes._subplots.AxesSubplot at 0x7f9cde75b8d0>"
      ]
     },
     "execution_count": 46,
     "metadata": {},
     "output_type": "execute_result"
    },
    {
     "data": {
      "image/png": "[encoded data removed]",
      "text/plain": [
       "<matplotlib.figure.Figure at 0x7f9cde7c2320>"
      ]
     },
     "metadata": {},
     "output_type": "display_data"
    }
   ],
   "source": [
    "test_euclidean_errors = np.linalg.norm(test_errors, ord=2, axis=1)\n",
    "sns.distplot(test_euclidean_errors)"
   ]
  },
  {
   "cell_type": "markdown",
   "metadata": {},
   "source": [
    "#### Train"
   ]
  },
  {
   "cell_type": "code",
   "execution_count": 47,
   "metadata": {},
   "outputs": [],
   "source": [
    "train_predictions = model_test.predict(\n",
    "    x={\n",
    "        'left_imgs':train_imgs_left,\n",
    "        'right_imgs': train_imgs_right,\n",
    "        'features': train_data[FEATURES].as_matrix()\n",
    "    }\n",
    ")"
   ]
  },
  {
   "cell_type": "code",
   "execution_count": 49,
   "metadata": {},
   "outputs": [
    {
     "data": {
      "text/plain": [
       "<seaborn.axisgrid.JointGrid at 0x7f9ccc5dfc50>"
      ]
     },
     "execution_count": 49,
     "metadata": {},
     "output_type": "execute_result"
    },
    {
     "data": {
      "image/png": "[encoded data removed]",
      "text/plain": [
       "<matplotlib.figure.Figure at 0x7f9ccc5df2b0>"
      ]
     },
     "metadata": {},
     "output_type": "display_data"
    }
   ],
   "source": [
    "train_errors = train_data[TARGETS].as_matrix()-train_predictions\n",
    "sns.jointplot(x=train_errors[:,0], y=train_errors[:,1], kind=\"kde\")"
   ]
  },
  {
   "cell_type": "code",
   "execution_count": 51,
   "metadata": {},
   "outputs": [
    {
     "data": {
      "text/plain": [
       "<matplotlib.axes._subplots.AxesSubplot at 0x7f9ccc5fb9e8>"
      ]
     },
     "execution_count": 51,
     "metadata": {},
     "output_type": "execute_result"
    },
    {
     "data": {
      "image/png": "[encoded data removed]",
      "text/plain": [
       "<matplotlib.figure.Figure at 0x7f9cde7971d0>"
      ]
     },
     "metadata": {},
     "output_type": "display_data"
    }
   ],
   "source": [
    "train_euclidean_errors = np.linalg.norm(train_errors, ord=2, axis=1)\n",
    "sns.distplot(train_euclidean_errors)"
   ]
  }
 ],
 "metadata": {
  "kernelspec": {
   "display_name": "Python 3",
   "language": "python",
   "name": "python3"
  },
  "language_info": {
   "codemirror_mode": {
    "name": "ipython",
    "version": 3
   },
   "file_extension": ".py",
   "mimetype": "text/x-python",
   "name": "python",
   "nbconvert_exporter": "python",
   "pygments_lexer": "ipython3",
   "version": "3.5.2"
  }
 },
 "nbformat": 4,
 "nbformat_minor": 2
}
